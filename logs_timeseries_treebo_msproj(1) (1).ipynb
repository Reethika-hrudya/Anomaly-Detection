{
 "cells": [
  {
   "cell_type": "code",
   "execution_count": null,
   "metadata": {
    "colab": {},
    "colab_type": "code",
    "id": "27ESTXJG-KQ6"
   },
   "outputs": [],
   "source": [
    "import pandas as pd\n",
    "import numpy as np\n",
    "\n",
    "import matplotlib\n",
    "import seaborn\n",
    "import matplotlib.dates as md\n",
    "from matplotlib import pyplot as plt\n",
    "\n",
    "from sklearn import preprocessing\n",
    "from sklearn.decomposition import PCA\n",
    "from sklearn.cluster import KMeans\n",
    "from sklearn.covariance import EllipticEnvelope\n",
    "#from pyemma import msm # not available on Kaggle Kernel\n",
    "from sklearn.ensemble import IsolationForest\n",
    "from sklearn.svm import OneClassSVM\n"
   ]
  },
  {
   "cell_type": "code",
   "execution_count": null,
   "metadata": {
    "colab": {},
    "colab_type": "code",
    "id": "o05uPkQc-KQ9"
   },
   "outputs": [],
   "source": [
    "import datetime as dt\n",
    "import os"
   ]
  },
  {
   "cell_type": "code",
   "execution_count": null,
   "metadata": {
    "colab": {
     "base_uri": "https://localhost:8080/",
     "height": 35
    },
    "colab_type": "code",
    "id": "u5V4H_vK-KQ_",
    "outputId": "e2cff774-03a6-4194-cd71-9655d26b75fa"
   },
   "outputs": [],
   "source": [
    "pd.__version__"
   ]
  },
  {
   "cell_type": "code",
   "execution_count": null,
   "metadata": {
    "colab": {},
    "colab_type": "code",
    "id": "8AUvv_DlAvVQ"
   },
   "outputs": [],
   "source": [
    "# 1x_uN2NhXl2-o9YF3J0GyLcxxNGkPXU9h"
   ]
  },
  {
   "cell_type": "code",
   "execution_count": null,
   "metadata": {
    "colab": {},
    "colab_type": "code",
    "id": "Md8RK3QkAxqs"
   },
   "outputs": [],
   "source": []
  },
  {
   "cell_type": "code",
   "execution_count": null,
   "metadata": {
    "colab": {
     "base_uri": "https://localhost:8080/",
     "height": 54
    },
    "colab_type": "code",
    "id": "bZUB1m9R4GkT",
    "outputId": "019fa384-94cd-45b0-f150-15bb4eb302b9"
   },
   "outputs": [],
   "source": [
    "if not os.path.exists('ms_proj'):\n",
    "  os.makedirs('ms_proj')\n",
    "%cd ms_proj\n",
    "if not os.path.exists('data'):\n",
    "  os.makedirs('data')\n",
    "%cd data"
   ]
  },
  {
   "cell_type": "code",
   "execution_count": null,
   "metadata": {
    "colab": {},
    "colab_type": "code",
    "id": "4X5GP_4Z4jB7"
   },
   "outputs": [],
   "source": []
  },
  {
   "cell_type": "code",
   "execution_count": null,
   "metadata": {
    "colab": {},
    "colab_type": "code",
    "id": "rL-L4pDJ20wM"
   },
   "outputs": [],
   "source": [
    "import requests\n",
    "\n",
    "def download_file_from_google_drive(id, destination):\n",
    "    def get_confirm_token(response):\n",
    "        for key, value in response.cookies.items():\n",
    "            if key.startswith('download_warning'):\n",
    "                return value\n",
    "\n",
    "        return None\n",
    "\n",
    "    def save_response_content(response, destination):\n",
    "        CHUNK_SIZE = 32768\n",
    "\n",
    "        with open(destination, \"wb\") as f:\n",
    "            for chunk in response.iter_content(CHUNK_SIZE):\n",
    "                if chunk: # filter out keep-alive new chunks\n",
    "                    f.write(chunk)\n",
    "\n",
    "    URL = \"https://docs.google.com/uc?export=download\"\n",
    "\n",
    "    session = requests.Session()\n",
    "\n",
    "    response = session.get(URL, params = { 'id' : id }, stream = True)\n",
    "    token = get_confirm_token(response)\n",
    "\n",
    "    if token:\n",
    "        params = { 'id' : id, 'confirm' : token }\n",
    "        response = session.get(URL, params = params, stream = True)\n",
    "\n",
    "    save_response_content(response, destination)"
   ]
  },
  {
   "cell_type": "code",
   "execution_count": null,
   "metadata": {
    "colab": {},
    "colab_type": "code",
    "id": "HJItyGWf21JW"
   },
   "outputs": [],
   "source": []
  },
  {
   "cell_type": "code",
   "execution_count": null,
   "metadata": {
    "colab": {},
    "colab_type": "code",
    "id": "Zer3ft0a21es"
   },
   "outputs": [],
   "source": [
    "file_id = r'1x_uN2NhXl2-o9YF3J0GyLcxxNGkPXU9h'\n",
    "destination = r'cleaned_data.csv'\n"
   ]
  },
  {
   "cell_type": "code",
   "execution_count": null,
   "metadata": {
    "colab": {},
    "colab_type": "code",
    "id": "tBmC83lidKiV"
   },
   "outputs": [],
   "source": []
  },
  {
   "cell_type": "code",
   "execution_count": null,
   "metadata": {
    "colab": {},
    "colab_type": "code",
    "id": "pOMUbU8l7qtt"
   },
   "outputs": [],
   "source": [
    "download_file_from_google_drive(file_id, destination)"
   ]
  },
  {
   "cell_type": "code",
   "execution_count": null,
   "metadata": {
    "colab": {},
    "colab_type": "code",
    "id": "WLilSFJHAyG_"
   },
   "outputs": [],
   "source": []
  },
  {
   "cell_type": "code",
   "execution_count": null,
   "metadata": {
    "colab": {},
    "colab_type": "code",
    "id": "SBwd2a4uAymN"
   },
   "outputs": [],
   "source": []
  },
  {
   "cell_type": "code",
   "execution_count": null,
   "metadata": {
    "colab": {},
    "colab_type": "code",
    "id": "aClwdQs3AzGB"
   },
   "outputs": [],
   "source": []
  },
  {
   "cell_type": "code",
   "execution_count": null,
   "metadata": {
    "colab": {},
    "colab_type": "code",
    "id": "JUNhfWoV-KRD"
   },
   "outputs": [],
   "source": [
    "# Set some parameters to get good visuals - style to ggplot and size to 15,10\n",
    "plt.style.use('ggplot')\n",
    "import matplotlib.style as style\n",
    "style.use('fivethirtyeight')\n",
    "plt.rcParams['figure.figsize'] = (15, 8)"
   ]
  },
  {
   "cell_type": "code",
   "execution_count": null,
   "metadata": {
    "colab": {},
    "colab_type": "code",
    "id": "U1dRj0NT-KRF"
   },
   "outputs": [],
   "source": [
    "# return Series of distance between each point and his distance with the closest centroid\n",
    "def getDistanceByPoint(data, model):\n",
    "    distance = pd.Series()\n",
    "    for i in range(0,len(data)):\n",
    "        Xa = np.array(data.loc[i])\n",
    "        Xb = model.cluster_centers_[model.labels_[i]-1]\n",
    "        distance.set_value(i, np.linalg.norm(Xa-Xb))\n",
    "    return distance"
   ]
  },
  {
   "cell_type": "code",
   "execution_count": null,
   "metadata": {
    "colab": {},
    "colab_type": "code",
    "id": "bK79mizw-KRH"
   },
   "outputs": [],
   "source": [
    "df = pd.read_csv('cleaned_data.csv')"
   ]
  },
  {
   "cell_type": "code",
   "execution_count": null,
   "metadata": {
    "colab": {},
    "colab_type": "code",
    "id": "JI2y3-aa-KRJ"
   },
   "outputs": [],
   "source": [
    "df['@timestamp'] = pd.to_datetime(df['@timestamp'])"
   ]
  },
  {
   "cell_type": "code",
   "execution_count": null,
   "metadata": {
    "colab": {},
    "colab_type": "code",
    "id": "xRO2GLNV-KRL"
   },
   "outputs": [],
   "source": [
    "df['@timestamp.1'] = pd.to_datetime(df['@timestamp.1'])"
   ]
  },
  {
   "cell_type": "code",
   "execution_count": null,
   "metadata": {
    "colab": {
     "base_uri": "https://localhost:8080/",
     "height": 49
    },
    "colab_type": "code",
    "id": "855DqVKQ-KRN",
    "outputId": "4e33556d-db52-425d-fb7f-a7bdb6c68c99"
   },
   "outputs": [],
   "source": [
    "df.loc[df['@timestamp.1'] != df['@timestamp']]"
   ]
  },
  {
   "cell_type": "code",
   "execution_count": null,
   "metadata": {
    "colab": {
     "base_uri": "https://localhost:8080/",
     "height": 206
    },
    "colab_type": "code",
    "id": "howyV3OX-KRQ",
    "outputId": "59848bea-f4d5-4190-e901-1fe6fdef8676"
   },
   "outputs": [],
   "source": [
    "df.head()"
   ]
  },
  {
   "cell_type": "code",
   "execution_count": null,
   "metadata": {
    "colab": {},
    "colab_type": "code",
    "id": "T2C7Vbg_-KRT"
   },
   "outputs": [],
   "source": [
    "df['date'] = df['@timestamp'].dt.date\n"
   ]
  },
  {
   "cell_type": "code",
   "execution_count": null,
   "metadata": {
    "colab": {},
    "colab_type": "code",
    "id": "JCcdnocX-KRU"
   },
   "outputs": [],
   "source": [
    "df['hour'] = df['@timestamp'].dt.hour"
   ]
  },
  {
   "cell_type": "code",
   "execution_count": null,
   "metadata": {
    "colab": {},
    "colab_type": "code",
    "id": "bVRE07bR-KRW"
   },
   "outputs": [],
   "source": [
    "df['minute'] = df['@timestamp'].dt.minute"
   ]
  },
  {
   "cell_type": "code",
   "execution_count": null,
   "metadata": {
    "colab": {},
    "colab_type": "code",
    "id": "ikpx-ZMp-KRY"
   },
   "outputs": [],
   "source": [
    "df_counts = df.groupby(['date', 'hour', 'minute'])['_id'].count().reset_index()"
   ]
  },
  {
   "cell_type": "code",
   "execution_count": null,
   "metadata": {
    "colab": {
     "base_uri": "https://localhost:8080/",
     "height": 35
    },
    "colab_type": "code",
    "id": "hfBThB8G-KRa",
    "outputId": "a3d20f79-104a-4e6e-a39e-6cc72bcf9a4d"
   },
   "outputs": [],
   "source": [
    "df_counts.iloc[0]['date'].strftime('%Y-%m-%d')+\" \"+str(df_counts.iloc[0]['hour'])+\":\"+str(df_counts.iloc[0]['minute'])+\":00\""
   ]
  },
  {
   "cell_type": "code",
   "execution_count": null,
   "metadata": {
    "colab": {},
    "colab_type": "code",
    "id": "mlpN-kjF-KRe"
   },
   "outputs": [],
   "source": []
  },
  {
   "cell_type": "code",
   "execution_count": null,
   "metadata": {
    "colab": {},
    "colab_type": "code",
    "id": "8xQEPrpp-KRg"
   },
   "outputs": [],
   "source": [
    "df_counts['date_trunc'] = pd.to_datetime(df_counts.apply(lambda row: row['date'].strftime('%Y-%m-%d')+\" \"+str(row['hour'])+\":\"+str((row['minute']//10)*10)+\":00\", axis=1))"
   ]
  },
  {
   "cell_type": "code",
   "execution_count": null,
   "metadata": {
    "colab": {
     "base_uri": "https://localhost:8080/",
     "height": 1000
    },
    "colab_type": "code",
    "id": "vngN-P9H-KRh",
    "outputId": "ef600374-ab3b-4c82-db6c-99388eb48d73"
   },
   "outputs": [],
   "source": [
    "df_counts"
   ]
  },
  {
   "cell_type": "code",
   "execution_count": null,
   "metadata": {
    "colab": {},
    "colab_type": "code",
    "id": "vS0y1Pn2-KRk"
   },
   "outputs": [],
   "source": [
    "df_counts_final = df_counts.groupby('date_trunc')['_id'].sum().reset_index()"
   ]
  },
  {
   "cell_type": "code",
   "execution_count": null,
   "metadata": {
    "colab": {
     "base_uri": "https://localhost:8080/",
     "height": 645
    },
    "colab_type": "code",
    "id": "sRQCxelN-KRn",
    "outputId": "5ff3e823-8d55-464b-b858-632bbc9f2d30"
   },
   "outputs": [],
   "source": [
    "df_counts_final.plot(x='date_trunc', y='_id')"
   ]
  },
  {
   "cell_type": "code",
   "execution_count": null,
   "metadata": {
    "colab": {
     "base_uri": "https://localhost:8080/",
     "height": 206
    },
    "colab_type": "code",
    "id": "h_haVGHc-KRq",
    "outputId": "fbc884bb-d912-4392-e5c3-ca74ac7109b8"
   },
   "outputs": [],
   "source": [
    "df_counts_final.sort_values('_id', ascending=False).head()"
   ]
  },
  {
   "cell_type": "code",
   "execution_count": null,
   "metadata": {
    "colab": {},
    "colab_type": "code",
    "id": "mBmu20u7-KRt"
   },
   "outputs": [],
   "source": [
    "df_counts_final = df_counts_final.loc[df_counts_final['_id']<1000]"
   ]
  },
  {
   "cell_type": "code",
   "execution_count": null,
   "metadata": {
    "colab": {},
    "colab_type": "code",
    "id": "fnFxeiUh-KRu"
   },
   "outputs": [],
   "source": [
    "df = df_counts_final.copy()"
   ]
  },
  {
   "cell_type": "code",
   "execution_count": null,
   "metadata": {
    "colab": {},
    "colab_type": "code",
    "id": "_nE4u2Tv-KRw"
   },
   "outputs": [],
   "source": [
    "df = df.rename(columns={'_id':'count'})"
   ]
  },
  {
   "cell_type": "code",
   "execution_count": null,
   "metadata": {
    "colab": {},
    "colab_type": "code",
    "id": "0UY5xSLD-KRy"
   },
   "outputs": [],
   "source": [
    "df['hours'] = df['date_trunc'].dt.hour\n",
    "df['minutes'] = (df['date_trunc'].dt.minute//10 < 3).astype(int)\n",
    "df['daylight'] = ((df['hours'] >= 6) & (df['hours'] <= 22)).astype(int)"
   ]
  },
  {
   "cell_type": "code",
   "execution_count": null,
   "metadata": {
    "colab": {
     "base_uri": "https://localhost:8080/",
     "height": 363
    },
    "colab_type": "code",
    "id": "JEMRRhQg-KR0",
    "outputId": "c83ff99d-d6b4-478c-82fc-6574f103b8c7"
   },
   "outputs": [],
   "source": [
    "df.head(10)"
   ]
  },
  {
   "cell_type": "code",
   "execution_count": null,
   "metadata": {
    "colab": {},
    "colab_type": "code",
    "id": "dps3G4FC-KR2"
   },
   "outputs": [],
   "source": [
    "# the day of the week (Monday=0, Sunday=6) and if it's a week end day or week day.\n",
    "df['DayOfTheWeek'] = df['date_trunc'].dt.dayofweek\n",
    "# df['WeekDay'] = (df['DayOfTheWeek'] < 5).astype(int)\n"
   ]
  },
  {
   "cell_type": "code",
   "execution_count": null,
   "metadata": {
    "colab": {},
    "colab_type": "code",
    "id": "Ai_UnbM6-KR5"
   },
   "outputs": [],
   "source": [
    "df['time_epoch'] = (df['date_trunc'].astype(np.int64)/100000000000).astype(np.int64)"
   ]
  },
  {
   "cell_type": "code",
   "execution_count": null,
   "metadata": {
    "colab": {},
    "colab_type": "code",
    "id": "suQZEZns-KR7"
   },
   "outputs": [],
   "source": [
    "# df['categories'] = df['WeekDay']*2 + df['daylight']"
   ]
  },
  {
   "cell_type": "code",
   "execution_count": null,
   "metadata": {
    "colab": {},
    "colab_type": "code",
    "id": "7f1n6gbB-KR9"
   },
   "outputs": [],
   "source": [
    "data = df[['count', 'hours', 'minutes']] #'DayOfTheWeek',, 'WeekDay', , 'minutes'\n",
    "min_max_scaler = preprocessing.StandardScaler()\n",
    "np_scaled = min_max_scaler.fit_transform(data)\n",
    "data = pd.DataFrame(np_scaled)\n",
    "# reduce to 2 importants features\n",
    "pca = PCA(n_components=2, random_state=123)\n",
    "data = pca.fit_transform(data)\n",
    "# standardize these 2 new features\n",
    "min_max_scaler = preprocessing.StandardScaler()\n",
    "np_scaled = min_max_scaler.fit_transform(data)\n",
    "data = pd.DataFrame(np_scaled)"
   ]
  },
  {
   "cell_type": "code",
   "execution_count": null,
   "metadata": {
    "colab": {
     "base_uri": "https://localhost:8080/",
     "height": 515
    },
    "colab_type": "code",
    "id": "x9ytz04Z-KR_",
    "outputId": "420acd53-26b0-495d-cce3-bc112d0c82d5"
   },
   "outputs": [],
   "source": [
    "n_cluster = range(1, 20)\n",
    "kmeans = [KMeans(n_clusters=i, random_state=123).fit(data) for i in n_cluster]\n",
    "scores = [kmeans[i].score(data) for i in range(len(kmeans))]\n",
    "fig, ax = plt.subplots()\n",
    "ax.plot(n_cluster, scores)\n",
    "plt.show()"
   ]
  },
  {
   "cell_type": "code",
   "execution_count": null,
   "metadata": {
    "colab": {},
    "colab_type": "code",
    "id": "KubDZnAH-KSC"
   },
   "outputs": [],
   "source": [
    "cluster_model = kmeans[14]"
   ]
  },
  {
   "cell_type": "code",
   "execution_count": null,
   "metadata": {
    "colab": {
     "base_uri": "https://localhost:8080/",
     "height": 310
    },
    "colab_type": "code",
    "id": "5J030jCP-KSF",
    "outputId": "a37f7465-c2fe-4912-e091-4f7fedfcd8d0"
   },
   "outputs": [],
   "source": [
    "df['cluster'] = cluster_model.predict(data)\n",
    "df['principal_feature1'] = data[0]\n",
    "df['principal_feature2'] = data[1]\n",
    "df['cluster'].value_counts()"
   ]
  },
  {
   "cell_type": "code",
   "execution_count": null,
   "metadata": {
    "colab": {
     "base_uri": "https://localhost:8080/",
     "height": 515
    },
    "colab_type": "code",
    "id": "YsHbKexu-KSH",
    "outputId": "5b323911-7d8b-4b67-9da4-509129b66b15"
   },
   "outputs": [],
   "source": [
    "fig, ax = plt.subplots()\n",
    "colors = {0:'red', 1:'blue', 2:'green', 3:'pink', 4:'black', 5:'orange', 6:'cyan', 7:'yellow', 8:'brown', 9:'purple', 10:'white', \n",
    "          11: 'grey', 12:'lightblue', 13:'lightgreen', 14: 'darkgrey'}\n",
    "ax.scatter(df['principal_feature1'], df['principal_feature2'], c=df[\"cluster\"].apply(lambda x: colors[x]))\n",
    "ax.scatter(cluster_model.cluster_centers_[:,0], cluster_model.cluster_centers_[:,1], s=100, c='darkblue')\n",
    "plt.show()"
   ]
  },
  {
   "cell_type": "code",
   "execution_count": null,
   "metadata": {
    "colab": {},
    "colab_type": "code",
    "id": "17I5z0Gv-KSK"
   },
   "outputs": [],
   "source": [
    "outliers_fraction = 0.003"
   ]
  },
  {
   "cell_type": "code",
   "execution_count": null,
   "metadata": {
    "colab": {
     "base_uri": "https://localhost:8080/",
     "height": 74
    },
    "colab_type": "code",
    "id": "_lJXPtWx-KSM",
    "outputId": "6d4c9925-3513-4c97-a2e7-579900b5b173"
   },
   "outputs": [],
   "source": [
    "distance = getDistanceByPoint(data, cluster_model)\n",
    "number_of_outliers = int(outliers_fraction*len(distance))\n",
    "threshold = distance.nlargest(number_of_outliers).min()\n",
    "# anomaly21 contain the anomaly result of method 2.1 Cluster (0:normal, 1:anomaly) \n",
    "df['anomaly21'] = (distance >= threshold).astype(int)"
   ]
  },
  {
   "cell_type": "code",
   "execution_count": null,
   "metadata": {
    "colab": {
     "base_uri": "https://localhost:8080/",
     "height": 1000
    },
    "colab_type": "code",
    "id": "hZ8fz1c7-KSP",
    "outputId": "d207d0f3-90d9-4311-a371-e210e5ba0fbf"
   },
   "outputs": [],
   "source": [
    "df"
   ]
  },
  {
   "cell_type": "code",
   "execution_count": null,
   "metadata": {
    "colab": {},
    "colab_type": "code",
    "id": "tR7tXsmq-KSR"
   },
   "outputs": [],
   "source": [
    "df = df.dropna()"
   ]
  },
  {
   "cell_type": "code",
   "execution_count": null,
   "metadata": {
    "colab": {
     "base_uri": "https://localhost:8080/",
     "height": 515
    },
    "colab_type": "code",
    "id": "akePwdOm-KST",
    "outputId": "fcfc2ecd-0b63-426b-de99-04a984a3b2c3"
   },
   "outputs": [],
   "source": [
    "# visualisation of anomaly with cluster view\n",
    "fig, ax = plt.subplots()\n",
    "colors = {0:'blue', 1:'red'}\n",
    "ax.scatter(df['principal_feature1'], df['principal_feature2'], c=df[\"anomaly21\"].apply(lambda x: colors[x]))\n",
    "plt.show()"
   ]
  },
  {
   "cell_type": "code",
   "execution_count": null,
   "metadata": {
    "colab": {
     "base_uri": "https://localhost:8080/",
     "height": 537
    },
    "colab_type": "code",
    "id": "hZuNXexM-KSV",
    "outputId": "b676ed96-2ca6-44e1-e4e8-1869ef269138"
   },
   "outputs": [],
   "source": [
    "fig, ax = plt.subplots()\n",
    "\n",
    "a = df.loc[df['anomaly21'] == 1, ['time_epoch', 'count']] #anomaly\n",
    "# b = df.loc[df['count'] >30000, ['time_epoch', 'count']] #missed\n",
    "\n",
    "ax.plot(df['time_epoch'], df['count'], color='blue')\n",
    "ax.scatter(a['time_epoch'],a['count'], color='red', s=100)\n",
    "# ax.scatter(b['time_epoch'],b['count'], color='red', s=100)\n",
    "plt.show()"
   ]
  },
  {
   "cell_type": "code",
   "execution_count": null,
   "metadata": {
    "colab": {
     "base_uri": "https://localhost:8080/",
     "height": 515
    },
    "colab_type": "code",
    "id": "j1P1j6iR-KSX",
    "outputId": "08e2ca93-1c20-4eb6-eb12-afdb61b50243"
   },
   "outputs": [],
   "source": [
    "a = df.loc[df['anomaly21'] == 0, 'count']\n",
    "b = df.loc[df['anomaly21'] == 1, 'count']\n",
    "\n",
    "fig, axs = plt.subplots()\n",
    "axs.hist([a,b], bins=32, stacked=True, color=['blue', 'red'], label=['normal', 'anomaly'])\n",
    "plt.legend()\n",
    "plt.show()\n"
   ]
  },
  {
   "cell_type": "markdown",
   "metadata": {
    "colab_type": "text",
    "id": "nLZxuiVn-KSa"
   },
   "source": [
    "## Isolated forests"
   ]
  },
  {
   "cell_type": "code",
   "execution_count": null,
   "metadata": {
    "colab": {},
    "colab_type": "code",
    "id": "tTrEqXMt-KSb"
   },
   "outputs": [],
   "source": [
    "outliers_fraction = 0.005"
   ]
  },
  {
   "cell_type": "code",
   "execution_count": null,
   "metadata": {
    "colab": {
     "base_uri": "https://localhost:8080/",
     "height": 384
    },
    "colab_type": "code",
    "id": "Dz1yiOdw-KSc",
    "outputId": "e19daf1a-9a77-4b94-f1bf-08f5d4e7cee4"
   },
   "outputs": [],
   "source": [
    "# Take useful feature and standardize them \n",
    "data = df[['count', 'hours', 'daylight']] # 'DayOfTheWeek', 'WeekDay'\n",
    "# data = df[['principal_feature1', 'principal_feature2']]\n",
    "min_max_scaler = preprocessing.StandardScaler()\n",
    "np_scaled = min_max_scaler.fit_transform(data)\n",
    "data = pd.DataFrame(np_scaled)\n",
    "# train isolation forest \n",
    "model =  IsolationForest(contamination = outliers_fraction)\n",
    "model.fit(data)\n",
    "# add the data to the main  \n",
    "df['anomaly25'] = pd.Series(model.predict(data))\n",
    "df['anomaly25'] = df['anomaly25'].map( {1: 0, -1: 1} )\n",
    "print(df['anomaly25'].value_counts())"
   ]
  },
  {
   "cell_type": "code",
   "execution_count": null,
   "metadata": {
    "colab": {
     "base_uri": "https://localhost:8080/",
     "height": 532
    },
    "colab_type": "code",
    "id": "WulDXSG--KSe",
    "outputId": "da3a0fe7-899f-4e4e-e8a0-27a73a81e5c0"
   },
   "outputs": [],
   "source": [
    "# visualisation of anomaly throughout time (viz 1)\n",
    "fig, ax = plt.subplots()\n",
    "\n",
    "a = df.loc[df['anomaly25'] == 1, ['time_epoch', 'count']] #anomaly\n",
    "b = df.loc[df['anomaly21']==1, ['time_epoch', 'count']]\n",
    "\n",
    "ax.plot(df['time_epoch'], df['count'], color='blue')\n",
    "ax.scatter(b['time_epoch'],b['count'], color='green', s=500)\n",
    "ax.scatter(a['time_epoch'],a['count'], color='red', s=100)\n",
    "\n",
    "plt.show()"
   ]
  },
  {
   "cell_type": "code",
   "execution_count": null,
   "metadata": {
    "colab": {
     "base_uri": "https://localhost:8080/",
     "height": 515
    },
    "colab_type": "code",
    "id": "4MIWvlrTWh94",
    "outputId": "650d4d1d-b907-4839-b8a6-6c4d100a5b97"
   },
   "outputs": [],
   "source": [
    "# visualisation of anomaly with cluster view\n",
    "fig, ax = plt.subplots()\n",
    "colors = {0:'blue', 1:'red'}\n",
    "ax.scatter(df['principal_feature1'], df['principal_feature2'], c=df[\"anomaly21\"].apply(lambda x: colors[x]))\n",
    "plt.show()"
   ]
  },
  {
   "cell_type": "code",
   "execution_count": null,
   "metadata": {
    "colab": {
     "base_uri": "https://localhost:8080/",
     "height": 515
    },
    "colab_type": "code",
    "id": "69EP1QBT-KSg",
    "outputId": "7608f422-c807-46bb-f974-3a5961d7b22a"
   },
   "outputs": [],
   "source": [
    "a = df.loc[df['anomaly25'] == 0, 'count']\n",
    "b = df.loc[df['anomaly25'] == 1, 'count']\n",
    "\n",
    "fig, axs = plt.subplots()\n",
    "axs.hist([a,b], bins=32, stacked=True, color=['blue', 'red'], label = ['normal', 'anomaly'])\n",
    "plt.legend()\n",
    "plt.show()"
   ]
  },
  {
   "cell_type": "markdown",
   "metadata": {
    "colab_type": "text",
    "id": "mk8L_DtU-KSi"
   },
   "source": [
    "## SVM"
   ]
  },
  {
   "cell_type": "code",
   "execution_count": null,
   "metadata": {
    "colab": {},
    "colab_type": "code",
    "id": "1sOLyGJj-KSj"
   },
   "outputs": [],
   "source": [
    "# Take useful feature and standardize them \n",
    "data = df[['count', 'hours', 'daylight', 'DayOfTheWeek']]\n",
    "min_max_scaler = preprocessing.StandardScaler()\n",
    "np_scaled = min_max_scaler.fit_transform(data)"
   ]
  },
  {
   "cell_type": "code",
   "execution_count": null,
   "metadata": {
    "colab": {
     "base_uri": "https://localhost:8080/",
     "height": 291
    },
    "colab_type": "code",
    "id": "SJ5FwMTi-KSm",
    "outputId": "f176ba9f-c595-46ca-df22-e047caa28c40"
   },
   "outputs": [],
   "source": [
    "# train one class SVM \n",
    "model =  OneClassSVM(nu=0.95 * outliers_fraction) #nu=0.95 * outliers_fraction  + 0.05\n",
    "data = pd.DataFrame(np_scaled)\n",
    "model.fit(data)\n",
    "# add the data to the main  \n",
    "df['anomaly26'] = pd.Series(model.predict(data))\n",
    "df['anomaly26'] = df['anomaly26'].map( {1: 0, -1: 1} )\n",
    "print(df['anomaly26'].value_counts())"
   ]
  },
  {
   "cell_type": "code",
   "execution_count": null,
   "metadata": {
    "colab": {
     "base_uri": "https://localhost:8080/",
     "height": 532
    },
    "colab_type": "code",
    "id": "oyEs9Nk7-KSp",
    "outputId": "0588f6fd-f433-4308-c402-9bdf4225cc4d"
   },
   "outputs": [],
   "source": [
    "# visualisation of anomaly throughout time (viz 1)\n",
    "fig, ax = plt.subplots()\n",
    "\n",
    "a = df.loc[df['anomaly26'] == 1, ['time_epoch', 'count']] #anomaly\n",
    "\n",
    "ax.plot(df['time_epoch'], df['count'], color='blue')\n",
    "ax.scatter(a['time_epoch'],a['count'], color='red', s=100)\n",
    "plt.show()"
   ]
  },
  {
   "cell_type": "code",
   "execution_count": null,
   "metadata": {
    "colab": {
     "base_uri": "https://localhost:8080/",
     "height": 901
    },
    "colab_type": "code",
    "id": "3k6pb1BCs48c",
    "outputId": "013f06a8-e18a-4660-a1f3-266f25c1a474"
   },
   "outputs": [],
   "source": [
    "# visualisation of anomaly with cluster view\n",
    "fig, ax = plt.subplots()\n",
    "colors = {0:'blue', 1:'red'}\n",
    "ax.scatter(df['principal_feature1'], df['principal_feature2'], c=df[\"anomaly26\"].apply(lambda x: colors[x]))\n",
    "plt.show()"
   ]
  },
  {
   "cell_type": "markdown",
   "metadata": {
    "colab_type": "text",
    "id": "cfMRWa15-KSs"
   },
   "source": [
    "## RNNs"
   ]
  },
  {
   "cell_type": "code",
   "execution_count": null,
   "metadata": {
    "colab": {},
    "colab_type": "code",
    "id": "ENvsxtm6-KSs"
   },
   "outputs": [],
   "source": [
    "#select and standardize data\n",
    "data_n = df[['count', 'hours', 'minutes']]#'daylight', 'DayOfTheWeek', 'WeekDay'\n",
    "min_max_scaler = preprocessing.StandardScaler()\n",
    "np_scaled = min_max_scaler.fit_transform(data_n)\n",
    "data_n = pd.DataFrame(np_scaled)"
   ]
  },
  {
   "cell_type": "code",
   "execution_count": null,
   "metadata": {
    "colab": {
     "base_uri": "https://localhost:8080/",
     "height": 163
    },
    "colab_type": "code",
    "id": "uiNFuBEh-KSu",
    "outputId": "7dc437b1-68be-4884-cced-241f87a60415"
   },
   "outputs": [],
   "source": [
    "# important parameters and train/test size\n",
    "prediction_time = 1 \n",
    "testdatasize = 50\n",
    "unroll_length = 10\n",
    "testdatacut = testdatasize + unroll_length  + 1\n",
    "\n",
    "#train data\n",
    "x_train = data_n[0:-prediction_time-testdatacut].as_matrix()\n",
    "y_train = data_n[prediction_time:-testdatacut  ][0].as_matrix()\n",
    "\n",
    "# test data\n",
    "x_test = data_n[0-testdatacut:-prediction_time].as_matrix()\n",
    "y_test = data_n[prediction_time-testdatacut:  ][0].as_matrix()"
   ]
  },
  {
   "cell_type": "code",
   "execution_count": null,
   "metadata": {
    "colab": {},
    "colab_type": "code",
    "id": "ND8JZpEu-KSw"
   },
   "outputs": [],
   "source": [
    "#unroll: create sequence of 50 previous data points for each data points\n",
    "def unroll(data,sequence_length=24):\n",
    "    result = []\n",
    "    for index in range(len(data) - sequence_length):\n",
    "        result.append(data[index: index + sequence_length])\n",
    "    return np.asarray(result)"
   ]
  },
  {
   "cell_type": "code",
   "execution_count": null,
   "metadata": {
    "colab": {
     "base_uri": "https://localhost:8080/",
     "height": 90
    },
    "colab_type": "code",
    "id": "QEZp6-Do-KSx",
    "outputId": "8e589504-d2cb-4fa1-a65e-85b6a6de0823"
   },
   "outputs": [],
   "source": [
    "# adapt the datasets for the sequence data shape\n",
    "x_train = unroll(x_train,unroll_length)\n",
    "x_test  = unroll(x_test,unroll_length)\n",
    "y_train = y_train[-x_train.shape[0]:]\n",
    "y_test  = y_test[-x_test.shape[0]:]\n",
    "\n",
    "# see the shape\n",
    "print(\"x_train\", x_train.shape)\n",
    "print(\"y_train\", y_train.shape)\n",
    "print(\"x_test\", x_test.shape)\n",
    "print(\"y_test\", y_test.shape)"
   ]
  },
  {
   "cell_type": "code",
   "execution_count": null,
   "metadata": {
    "colab": {
     "base_uri": "https://localhost:8080/",
     "height": 35
    },
    "colab_type": "code",
    "id": "Ox4hZLdu-KSz",
    "outputId": "4d32998d-a460-4901-d3af-2445b138a5a1"
   },
   "outputs": [],
   "source": [
    "# specific libraries for RNN\n",
    "# keras is a high layer build on Tensorflow layer to stay in high level/easy implementation\n",
    "from keras.layers.core import Dense, Activation, Dropout\n",
    "from keras.layers.recurrent import LSTM\n",
    "from keras.models import Sequential\n",
    "import time #helper libraries\n",
    "from keras.models import model_from_json\n",
    "import sys"
   ]
  },
  {
   "cell_type": "code",
   "execution_count": null,
   "metadata": {
    "colab": {
     "base_uri": "https://localhost:8080/",
     "height": 384
    },
    "colab_type": "code",
    "id": "BJp60AWz-KS0",
    "outputId": "1db82925-372e-4c22-90ba-ac2a09be4068"
   },
   "outputs": [],
   "source": [
    "# Build the model\n",
    "model = Sequential()\n",
    "\n",
    "model.add(LSTM(\n",
    "    input_dim=x_train.shape[-1],\n",
    "    output_dim=10,\n",
    "    return_sequences=True))\n",
    "model.add(Dropout(0.2))\n",
    "\n",
    "model.add(LSTM(\n",
    "    200,\n",
    "    return_sequences=False))\n",
    "model.add(Dropout(0.2))\n",
    "\n",
    "model.add(Dense(\n",
    "    units=1))\n",
    "model.add(Activation('linear'))\n",
    "\n",
    "start = time.time()\n",
    "model.compile(loss='mse', optimizer='rmsprop')\n",
    "print('compilation time : {}'.format(time.time() - start))"
   ]
  },
  {
   "cell_type": "code",
   "execution_count": null,
   "metadata": {
    "colab": {
     "base_uri": "https://localhost:8080/",
     "height": 1000
    },
    "colab_type": "code",
    "id": "TPNUIeHX-KS3",
    "outputId": "0bd4c74e-704a-4975-e590-f34efbb53579"
   },
   "outputs": [],
   "source": [
    "model.fit(\n",
    "    x_train,\n",
    "    y_train,\n",
    "    batch_size=1000,\n",
    "    nb_epoch=30,\n",
    "    validation_split=0.1)"
   ]
  },
  {
   "cell_type": "code",
   "execution_count": null,
   "metadata": {
    "colab": {},
    "colab_type": "code",
    "id": "qh6PPvsW-KS4"
   },
   "outputs": [],
   "source": [
    "diff=[]\n",
    "ratio=[]\n",
    "p = model.predict(x_test)"
   ]
  },
  {
   "cell_type": "code",
   "execution_count": null,
   "metadata": {
    "colab": {},
    "colab_type": "code",
    "id": "N-qkb7bP-KS6"
   },
   "outputs": [],
   "source": [
    "for u in range(len(y_test)):\n",
    "    pr = p[u][0]\n",
    "    ratio.append((y_test[u]/pr)-1)\n",
    "    diff.append(abs(y_test[u]- pr))"
   ]
  },
  {
   "cell_type": "code",
   "execution_count": null,
   "metadata": {
    "colab": {
     "base_uri": "https://localhost:8080/",
     "height": 515
    },
    "colab_type": "code",
    "id": "EocwW9DS-KS8",
    "outputId": "00eba39f-6101-4afc-aefa-1db2cce2ec1e"
   },
   "outputs": [],
   "source": [
    "fig, axs = plt.subplots()\n",
    "axs.plot(p,color='red', label='prediction')\n",
    "axs.plot(y_test,color='blue', label='y_test')\n",
    "plt.legend(loc='upper left')\n",
    "plt.show()"
   ]
  },
  {
   "cell_type": "code",
   "execution_count": null,
   "metadata": {
    "colab": {},
    "colab_type": "code",
    "id": "zkmwjCpg-KS-"
   },
   "outputs": [],
   "source": [
    "# select the most distant prediction/reality data points as anomalies\n",
    "diff = pd.Series(diff)\n",
    "number_of_outliers = int(0.1*len(diff))\n",
    "threshold = diff.nlargest(number_of_outliers).min()"
   ]
  },
  {
   "cell_type": "code",
   "execution_count": null,
   "metadata": {
    "colab": {},
    "colab_type": "code",
    "id": "19Rxry1d-KS_"
   },
   "outputs": [],
   "source": [
    "# data with anomaly label (test data part)\n",
    "test = (diff >= threshold).astype(int)"
   ]
  },
  {
   "cell_type": "code",
   "execution_count": null,
   "metadata": {
    "colab": {
     "base_uri": "https://localhost:8080/",
     "height": 127
    },
    "colab_type": "code",
    "id": "feF58iY--KTC",
    "outputId": "745cfe30-b179-4611-cfc5-3a6b6e91bf2c"
   },
   "outputs": [],
   "source": [
    "test.head()"
   ]
  },
  {
   "cell_type": "code",
   "execution_count": null,
   "metadata": {
    "colab": {},
    "colab_type": "code",
    "id": "CAo96NzG-KTF"
   },
   "outputs": [],
   "source": [
    "# the training data part where we didn't predict anything (overfitting possible): no anomaly\n",
    "complement = pd.Series(0, index=np.arange(len(data_n)-testdatasize))"
   ]
  },
  {
   "cell_type": "code",
   "execution_count": null,
   "metadata": {
    "colab": {
     "base_uri": "https://localhost:8080/",
     "height": 35
    },
    "colab_type": "code",
    "id": "7Uvn22eZ-KTH",
    "outputId": "34321556-06e7-43cb-9244-6341262cf4b2"
   },
   "outputs": [],
   "source": [
    "complement.shape"
   ]
  },
  {
   "cell_type": "code",
   "execution_count": null,
   "metadata": {
    "colab": {
     "base_uri": "https://localhost:8080/",
     "height": 182
    },
    "colab_type": "code",
    "id": "0PzIiM5T-KTJ",
    "outputId": "6840be01-9484-4be2-feee-a40764a7c5e2"
   },
   "outputs": [],
   "source": [
    "# # add the data to the main\n",
    "df['anomaly27'] = complement.append(test, ignore_index='True')\n",
    "print(df['anomaly27'].value_counts())"
   ]
  },
  {
   "cell_type": "code",
   "execution_count": null,
   "metadata": {
    "colab": {
     "base_uri": "https://localhost:8080/",
     "height": 532
    },
    "colab_type": "code",
    "id": "dneCZLsP-KTL",
    "outputId": "9b17ce33-dbfd-4870-cbb4-5c3a6f3ff98c"
   },
   "outputs": [],
   "source": [
    "# visualisation of anomaly throughout time (viz 1)\n",
    "fig, ax = plt.subplots()\n",
    "\n",
    "a = df.loc[df['anomaly27'] == 1, ['time_epoch', 'count']] #anomaly\n",
    "\n",
    "ax.plot(df['time_epoch'], df['count'], color='blue')\n",
    "ax.scatter(a['time_epoch'],a['count'], color='red', s=100)\n",
    "# plt.axis([1.370*1e7, 1.405*1e7, -2.5,1])\n",
    "plt.show()"
   ]
  },
  {
   "cell_type": "code",
   "execution_count": null,
   "metadata": {
    "colab": {},
    "colab_type": "code",
    "id": "O79Bcs9m-KTN"
   },
   "outputs": [],
   "source": [
    "diff=[]\n",
    "ratio=[]\n",
    "p = model.predict(x_train)"
   ]
  },
  {
   "cell_type": "code",
   "execution_count": null,
   "metadata": {
    "colab": {},
    "colab_type": "code",
    "id": "r7TDK8aj-KTP"
   },
   "outputs": [],
   "source": [
    "for u in range(len(y_train)):\n",
    "    pr = p[u][0]\n",
    "    ratio.append((y_train[u]/pr)-1)\n",
    "    diff.append(abs(y_train[u]- pr))"
   ]
  },
  {
   "cell_type": "code",
   "execution_count": null,
   "metadata": {
    "colab": {
     "base_uri": "https://localhost:8080/",
     "height": 515
    },
    "colab_type": "code",
    "id": "VScKXtcg-KTQ",
    "outputId": "a1d85cfb-7627-45e8-d49c-98109622f7e7"
   },
   "outputs": [],
   "source": [
    "fig, axs = plt.subplots()\n",
    "axs.plot(p,color='red', label='prediction')\n",
    "axs.plot(y_train,color='blue', label='y_test')\n",
    "plt.legend(loc='upper left')\n",
    "plt.show()"
   ]
  },
  {
   "cell_type": "code",
   "execution_count": null,
   "metadata": {
    "colab": {},
    "colab_type": "code",
    "id": "f6Asuznf-KTS"
   },
   "outputs": [],
   "source": [
    "# select the most distant prediction/reality data points as anomalies\n",
    "diff = pd.Series(diff)\n",
    "number_of_outliers = int(0.01*len(diff))\n",
    "threshold = diff.nlargest(number_of_outliers).min()"
   ]
  },
  {
   "cell_type": "code",
   "execution_count": null,
   "metadata": {
    "colab": {
     "base_uri": "https://localhost:8080/",
     "height": 35
    },
    "colab_type": "code",
    "id": "SdHNvNMs-KTT",
    "outputId": "3590e878-f9de-48f3-978e-de430b24a2cb"
   },
   "outputs": [],
   "source": [
    "diff.shape"
   ]
  },
  {
   "cell_type": "code",
   "execution_count": null,
   "metadata": {
    "colab": {
     "base_uri": "https://localhost:8080/",
     "height": 35
    },
    "colab_type": "code",
    "id": "7PELQS3w-KTV",
    "outputId": "a233e2f1-c9ee-4e09-cb9e-18b2f3ca8229"
   },
   "outputs": [],
   "source": [
    "diff.index"
   ]
  },
  {
   "cell_type": "code",
   "execution_count": null,
   "metadata": {
    "colab": {
     "base_uri": "https://localhost:8080/",
     "height": 127
    },
    "colab_type": "code",
    "id": "RcseT53L-KTW",
    "outputId": "cf1ac90a-1424-4ff2-982b-36e8821a7f66"
   },
   "outputs": [],
   "source": [
    "complement.head()"
   ]
  },
  {
   "cell_type": "code",
   "execution_count": null,
   "metadata": {
    "colab": {
     "base_uri": "https://localhost:8080/",
     "height": 697
    },
    "colab_type": "code",
    "id": "4OW0J2vE-KTY",
    "outputId": "1a78b5c8-dbbe-4ff6-e454-c5a6105273c0"
   },
   "outputs": [],
   "source": [
    "# data with anomaly label (test data part)\n",
    "train = (diff >= threshold).astype(int)\n",
    "# the training data part where we didn't predict anything (overfitting possible): no anomaly\n",
    "# complement = pd.Series(0, index=np.arange(len(diff)))\n",
    "# # add the data to the main\n",
    "df['anomaly28'] = train.append(complement, ignore_index='True')\n",
    "print(df['anomaly28'].value_counts())\n",
    "\n",
    "# visualisation of anomaly throughout time (viz 1)\n",
    "fig, ax = plt.subplots()\n",
    "\n",
    "a = df.loc[df['anomaly28'] == 1, ['time_epoch', 'count']] #anomaly\n",
    "\n",
    "ax.plot(df['time_epoch'], df['count'], color='blue')\n",
    "ax.scatter(a['time_epoch'],a['count'], color='red', s= 100)\n",
    "# plt.axis([1.370*1e7, 1.405*1e7, -2.5,1])\n",
    "plt.show()"
   ]
  },
  {
   "cell_type": "code",
   "execution_count": null,
   "metadata": {
    "colab": {},
    "colab_type": "code",
    "id": "iNREjqDx-KTa"
   },
   "outputs": [],
   "source": []
  },
  {
   "cell_type": "code",
   "execution_count": null,
   "metadata": {
    "colab": {},
    "colab_type": "code",
    "id": "cdfssrCB-KTc"
   },
   "outputs": [],
   "source": []
  },
  {
   "cell_type": "code",
   "execution_count": null,
   "metadata": {
    "colab": {},
    "colab_type": "code",
    "id": "O8Tih26wAljN"
   },
   "outputs": [],
   "source": []
  },
  {
   "cell_type": "code",
   "execution_count": null,
   "metadata": {},
   "outputs": [],
   "source": []
  }
 ],
 "metadata": {
  "colab": {
   "collapsed_sections": [],
   "name": "logs-timeseries-treebo-msproj.ipynb",
   "provenance": [],
   "version": "0.3.2"
  },
  "kernelspec": {
   "display_name": "Python 3",
   "language": "python",
   "name": "python3"
  },
  "language_info": {
   "codemirror_mode": {
    "name": "ipython",
    "version": 3
   },
   "file_extension": ".py",
   "mimetype": "text/x-python",
   "name": "python",
   "nbconvert_exporter": "python",
   "pygments_lexer": "ipython3",
   "version": "3.6.8"
  }
 },
 "nbformat": 4,
 "nbformat_minor": 1
}
