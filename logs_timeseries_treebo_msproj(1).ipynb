{
  "nbformat": 4,
  "nbformat_minor": 0,
  "metadata": {
    "colab": {
      "name": "logs-timeseries-treebo-msproj.ipynb",
      "version": "0.3.2",
      "provenance": [],
      "collapsed_sections": []
    },
    "language_info": {
      "codemirror_mode": {
        "name": "ipython",
        "version": 3
      },
      "file_extension": ".py",
      "mimetype": "text/x-python",
      "name": "python",
      "nbconvert_exporter": "python",
      "pygments_lexer": "ipython3",
      "version": "3.6.7"
    },
    "kernelspec": {
      "display_name": "Python 3",
      "language": "python",
      "name": "python3"
    }
  },
  "cells": [
    {
      "cell_type": "code",
      "metadata": {
        "id": "27ESTXJG-KQ6",
        "colab_type": "code",
        "colab": {}
      },
      "source": [
        "import pandas as pd\n",
        "import numpy as np\n",
        "\n",
        "import matplotlib\n",
        "import seaborn\n",
        "import matplotlib.dates as md\n",
        "from matplotlib import pyplot as plt\n",
        "\n",
        "from sklearn import preprocessing\n",
        "from sklearn.decomposition import PCA\n",
        "from sklearn.cluster import KMeans\n",
        "from sklearn.covariance import EllipticEnvelope\n",
        "#from pyemma import msm # not available on Kaggle Kernel\n",
        "from sklearn.ensemble import IsolationForest\n",
        "from sklearn.svm import OneClassSVM\n"
      ],
      "execution_count": 0,
      "outputs": []
    },
    {
      "cell_type": "code",
      "metadata": {
        "id": "o05uPkQc-KQ9",
        "colab_type": "code",
        "colab": {}
      },
      "source": [
        "import datetime as dt\n",
        "import os"
      ],
      "execution_count": 0,
      "outputs": []
    },
    {
      "cell_type": "code",
      "metadata": {
        "id": "u5V4H_vK-KQ_",
        "colab_type": "code",
        "outputId": "e2cff774-03a6-4194-cd71-9655d26b75fa",
        "colab": {
          "base_uri": "https://localhost:8080/",
          "height": 35
        }
      },
      "source": [
        "pd.__version__"
      ],
      "execution_count": 0,
      "outputs": [
        {
          "output_type": "execute_result",
          "data": {
            "text/plain": [
              "'0.24.2'"
            ]
          },
          "metadata": {
            "tags": []
          },
          "execution_count": 3
        }
      ]
    },
    {
      "cell_type": "code",
      "metadata": {
        "id": "8AUvv_DlAvVQ",
        "colab_type": "code",
        "colab": {}
      },
      "source": [
        "# 1x_uN2NhXl2-o9YF3J0GyLcxxNGkPXU9h"
      ],
      "execution_count": 0,
      "outputs": []
    },
    {
      "cell_type": "code",
      "metadata": {
        "id": "Md8RK3QkAxqs",
        "colab_type": "code",
        "colab": {}
      },
      "source": [
        ""
      ],
      "execution_count": 0,
      "outputs": []
    },
    {
      "cell_type": "code",
      "metadata": {
        "id": "bZUB1m9R4GkT",
        "colab_type": "code",
        "outputId": "019fa384-94cd-45b0-f150-15bb4eb302b9",
        "colab": {
          "base_uri": "https://localhost:8080/",
          "height": 54
        }
      },
      "source": [
        "if not os.path.exists('ms_proj'):\n",
        "  os.makedirs('ms_proj')\n",
        "%cd ms_proj\n",
        "if not os.path.exists('data'):\n",
        "  os.makedirs('data')\n",
        "%cd data"
      ],
      "execution_count": 0,
      "outputs": [
        {
          "output_type": "stream",
          "text": [
            "/content/ms_proj\n",
            "/content/ms_proj/data\n"
          ],
          "name": "stdout"
        }
      ]
    },
    {
      "cell_type": "code",
      "metadata": {
        "id": "4X5GP_4Z4jB7",
        "colab_type": "code",
        "colab": {}
      },
      "source": [
        ""
      ],
      "execution_count": 0,
      "outputs": []
    },
    {
      "cell_type": "code",
      "metadata": {
        "id": "rL-L4pDJ20wM",
        "colab_type": "code",
        "colab": {}
      },
      "source": [
        "import requests\n",
        "\n",
        "def download_file_from_google_drive(id, destination):\n",
        "    def get_confirm_token(response):\n",
        "        for key, value in response.cookies.items():\n",
        "            if key.startswith('download_warning'):\n",
        "                return value\n",
        "\n",
        "        return None\n",
        "\n",
        "    def save_response_content(response, destination):\n",
        "        CHUNK_SIZE = 32768\n",
        "\n",
        "        with open(destination, \"wb\") as f:\n",
        "            for chunk in response.iter_content(CHUNK_SIZE):\n",
        "                if chunk: # filter out keep-alive new chunks\n",
        "                    f.write(chunk)\n",
        "\n",
        "    URL = \"https://docs.google.com/uc?export=download\"\n",
        "\n",
        "    session = requests.Session()\n",
        "\n",
        "    response = session.get(URL, params = { 'id' : id }, stream = True)\n",
        "    token = get_confirm_token(response)\n",
        "\n",
        "    if token:\n",
        "        params = { 'id' : id, 'confirm' : token }\n",
        "        response = session.get(URL, params = params, stream = True)\n",
        "\n",
        "    save_response_content(response, destination)"
      ],
      "execution_count": 0,
      "outputs": []
    },
    {
      "cell_type": "code",
      "metadata": {
        "id": "HJItyGWf21JW",
        "colab_type": "code",
        "colab": {}
      },
      "source": [
        ""
      ],
      "execution_count": 0,
      "outputs": []
    },
    {
      "cell_type": "code",
      "metadata": {
        "id": "Zer3ft0a21es",
        "colab_type": "code",
        "colab": {}
      },
      "source": [
        "file_id = r'1x_uN2NhXl2-o9YF3J0GyLcxxNGkPXU9h'\n",
        "destination = r'cleaned_data.csv'\n"
      ],
      "execution_count": 0,
      "outputs": []
    },
    {
      "cell_type": "code",
      "metadata": {
        "id": "tBmC83lidKiV",
        "colab_type": "code",
        "colab": {}
      },
      "source": [
        ""
      ],
      "execution_count": 0,
      "outputs": []
    },
    {
      "cell_type": "code",
      "metadata": {
        "id": "pOMUbU8l7qtt",
        "colab_type": "code",
        "colab": {}
      },
      "source": [
        "download_file_from_google_drive(file_id, destination)"
      ],
      "execution_count": 0,
      "outputs": []
    },
    {
      "cell_type": "code",
      "metadata": {
        "id": "WLilSFJHAyG_",
        "colab_type": "code",
        "colab": {}
      },
      "source": [
        ""
      ],
      "execution_count": 0,
      "outputs": []
    },
    {
      "cell_type": "code",
      "metadata": {
        "id": "SBwd2a4uAymN",
        "colab_type": "code",
        "colab": {}
      },
      "source": [
        ""
      ],
      "execution_count": 0,
      "outputs": []
    },
    {
      "cell_type": "code",
      "metadata": {
        "id": "aClwdQs3AzGB",
        "colab_type": "code",
        "colab": {}
      },
      "source": [
        ""
      ],
      "execution_count": 0,
      "outputs": []
    },
    {
      "cell_type": "code",
      "metadata": {
        "id": "JUNhfWoV-KRD",
        "colab_type": "code",
        "colab": {}
      },
      "source": [
        "# Set some parameters to get good visuals - style to ggplot and size to 15,10\n",
        "plt.style.use('ggplot')\n",
        "import matplotlib.style as style\n",
        "style.use('fivethirtyeight')\n",
        "plt.rcParams['figure.figsize'] = (15, 8)"
      ],
      "execution_count": 0,
      "outputs": []
    },
    {
      "cell_type": "code",
      "metadata": {
        "id": "U1dRj0NT-KRF",
        "colab_type": "code",
        "colab": {}
      },
      "source": [
        "# return Series of distance between each point and his distance with the closest centroid\n",
        "def getDistanceByPoint(data, model):\n",
        "    distance = pd.Series()\n",
        "    for i in range(0,len(data)):\n",
        "        Xa = np.array(data.loc[i])\n",
        "        Xb = model.cluster_centers_[model.labels_[i]-1]\n",
        "        distance.set_value(i, np.linalg.norm(Xa-Xb))\n",
        "    return distance"
      ],
      "execution_count": 0,
      "outputs": []
    },
    {
      "cell_type": "code",
      "metadata": {
        "id": "bK79mizw-KRH",
        "colab_type": "code",
        "colab": {}
      },
      "source": [
        "df = pd.read_csv('cleaned_data.csv')"
      ],
      "execution_count": 0,
      "outputs": []
    },
    {
      "cell_type": "code",
      "metadata": {
        "id": "JI2y3-aa-KRJ",
        "colab_type": "code",
        "colab": {}
      },
      "source": [
        "df['@timestamp'] = pd.to_datetime(df['@timestamp'])"
      ],
      "execution_count": 0,
      "outputs": []
    },
    {
      "cell_type": "code",
      "metadata": {
        "id": "xRO2GLNV-KRL",
        "colab_type": "code",
        "colab": {}
      },
      "source": [
        "df['@timestamp.1'] = pd.to_datetime(df['@timestamp.1'])"
      ],
      "execution_count": 0,
      "outputs": []
    },
    {
      "cell_type": "code",
      "metadata": {
        "id": "855DqVKQ-KRN",
        "colab_type": "code",
        "outputId": "4e33556d-db52-425d-fb7f-a7bdb6c68c99",
        "colab": {
          "base_uri": "https://localhost:8080/",
          "height": 49
        }
      },
      "source": [
        "df.loc[df['@timestamp.1'] != df['@timestamp']]"
      ],
      "execution_count": 0,
      "outputs": [
        {
          "output_type": "execute_result",
          "data": {
            "text/html": [
              "<div>\n",
              "<style scoped>\n",
              "    .dataframe tbody tr th:only-of-type {\n",
              "        vertical-align: middle;\n",
              "    }\n",
              "\n",
              "    .dataframe tbody tr th {\n",
              "        vertical-align: top;\n",
              "    }\n",
              "\n",
              "    .dataframe thead th {\n",
              "        text-align: right;\n",
              "    }\n",
              "</style>\n",
              "<table border=\"1\" class=\"dataframe\">\n",
              "  <thead>\n",
              "    <tr style=\"text-align: right;\">\n",
              "      <th></th>\n",
              "      <th>@timestamp</th>\n",
              "      <th>_id</th>\n",
              "      <th>@timestamp.1</th>\n",
              "    </tr>\n",
              "  </thead>\n",
              "  <tbody>\n",
              "  </tbody>\n",
              "</table>\n",
              "</div>"
            ],
            "text/plain": [
              "Empty DataFrame\n",
              "Columns: [@timestamp, _id, @timestamp.1]\n",
              "Index: []"
            ]
          },
          "metadata": {
            "tags": []
          },
          "execution_count": 14
        }
      ]
    },
    {
      "cell_type": "code",
      "metadata": {
        "id": "howyV3OX-KRQ",
        "colab_type": "code",
        "outputId": "59848bea-f4d5-4190-e901-1fe6fdef8676",
        "colab": {
          "base_uri": "https://localhost:8080/",
          "height": 206
        }
      },
      "source": [
        "df.head()"
      ],
      "execution_count": 0,
      "outputs": [
        {
          "output_type": "execute_result",
          "data": {
            "text/html": [
              "<div>\n",
              "<style scoped>\n",
              "    .dataframe tbody tr th:only-of-type {\n",
              "        vertical-align: middle;\n",
              "    }\n",
              "\n",
              "    .dataframe tbody tr th {\n",
              "        vertical-align: top;\n",
              "    }\n",
              "\n",
              "    .dataframe thead th {\n",
              "        text-align: right;\n",
              "    }\n",
              "</style>\n",
              "<table border=\"1\" class=\"dataframe\">\n",
              "  <thead>\n",
              "    <tr style=\"text-align: right;\">\n",
              "      <th></th>\n",
              "      <th>@timestamp</th>\n",
              "      <th>_id</th>\n",
              "      <th>@timestamp.1</th>\n",
              "    </tr>\n",
              "  </thead>\n",
              "  <tbody>\n",
              "    <tr>\n",
              "      <th>0</th>\n",
              "      <td>2019-06-16 05:47:55</td>\n",
              "      <td>tKvTXmsB7mP0GwVz7j3l</td>\n",
              "      <td>2019-06-16 05:47:55</td>\n",
              "    </tr>\n",
              "    <tr>\n",
              "      <th>1</th>\n",
              "      <td>2019-06-16 05:47:49</td>\n",
              "      <td>g9XTXmsBoTGddM7v1xhz</td>\n",
              "      <td>2019-06-16 05:47:49</td>\n",
              "    </tr>\n",
              "    <tr>\n",
              "      <th>2</th>\n",
              "      <td>2019-06-16 05:47:45</td>\n",
              "      <td>b6vTXmsB7mP0GwVzxzvX</td>\n",
              "      <td>2019-06-16 05:47:45</td>\n",
              "    </tr>\n",
              "    <tr>\n",
              "      <th>3</th>\n",
              "      <td>2019-06-16 05:47:39</td>\n",
              "      <td>_qvTXmsB7mP0GwVzsDln</td>\n",
              "      <td>2019-06-16 05:47:39</td>\n",
              "    </tr>\n",
              "    <tr>\n",
              "      <th>4</th>\n",
              "      <td>2019-06-16 05:47:35</td>\n",
              "      <td>AdXTXmsBoTGddM7voBbC</td>\n",
              "      <td>2019-06-16 05:47:35</td>\n",
              "    </tr>\n",
              "  </tbody>\n",
              "</table>\n",
              "</div>"
            ],
            "text/plain": [
              "           @timestamp                   _id        @timestamp.1\n",
              "0 2019-06-16 05:47:55  tKvTXmsB7mP0GwVz7j3l 2019-06-16 05:47:55\n",
              "1 2019-06-16 05:47:49  g9XTXmsBoTGddM7v1xhz 2019-06-16 05:47:49\n",
              "2 2019-06-16 05:47:45  b6vTXmsB7mP0GwVzxzvX 2019-06-16 05:47:45\n",
              "3 2019-06-16 05:47:39  _qvTXmsB7mP0GwVzsDln 2019-06-16 05:47:39\n",
              "4 2019-06-16 05:47:35  AdXTXmsBoTGddM7voBbC 2019-06-16 05:47:35"
            ]
          },
          "metadata": {
            "tags": []
          },
          "execution_count": 15
        }
      ]
    },
    {
      "cell_type": "code",
      "metadata": {
        "id": "T2C7Vbg_-KRT",
        "colab_type": "code",
        "colab": {}
      },
      "source": [
        "df['date'] = df['@timestamp'].dt.date\n"
      ],
      "execution_count": 0,
      "outputs": []
    },
    {
      "cell_type": "code",
      "metadata": {
        "id": "JCcdnocX-KRU",
        "colab_type": "code",
        "colab": {}
      },
      "source": [
        "df['hour'] = df['@timestamp'].dt.hour"
      ],
      "execution_count": 0,
      "outputs": []
    },
    {
      "cell_type": "code",
      "metadata": {
        "id": "bVRE07bR-KRW",
        "colab_type": "code",
        "colab": {}
      },
      "source": [
        "df['minute'] = df['@timestamp'].dt.minute"
      ],
      "execution_count": 0,
      "outputs": []
    },
    {
      "cell_type": "code",
      "metadata": {
        "id": "ikpx-ZMp-KRY",
        "colab_type": "code",
        "colab": {}
      },
      "source": [
        "df_counts = df.groupby(['date', 'hour', 'minute'])['_id'].count().reset_index()"
      ],
      "execution_count": 0,
      "outputs": []
    },
    {
      "cell_type": "code",
      "metadata": {
        "id": "hfBThB8G-KRa",
        "colab_type": "code",
        "outputId": "a3d20f79-104a-4e6e-a39e-6cc72bcf9a4d",
        "colab": {
          "base_uri": "https://localhost:8080/",
          "height": 35
        }
      },
      "source": [
        "df_counts.iloc[0]['date'].strftime('%Y-%m-%d')+\" \"+str(df_counts.iloc[0]['hour'])+\":\"+str(df_counts.iloc[0]['minute'])+\":00\""
      ],
      "execution_count": 0,
      "outputs": [
        {
          "output_type": "execute_result",
          "data": {
            "text/plain": [
              "'2019-06-09 20:47:00'"
            ]
          },
          "metadata": {
            "tags": []
          },
          "execution_count": 20
        }
      ]
    },
    {
      "cell_type": "code",
      "metadata": {
        "id": "mlpN-kjF-KRe",
        "colab_type": "code",
        "colab": {}
      },
      "source": [
        ""
      ],
      "execution_count": 0,
      "outputs": []
    },
    {
      "cell_type": "code",
      "metadata": {
        "id": "8xQEPrpp-KRg",
        "colab_type": "code",
        "colab": {}
      },
      "source": [
        "df_counts['date_trunc'] = pd.to_datetime(df_counts.apply(lambda row: row['date'].strftime('%Y-%m-%d')+\" \"+str(row['hour'])+\":\"+str((row['minute']//10)*10)+\":00\", axis=1))"
      ],
      "execution_count": 0,
      "outputs": []
    },
    {
      "cell_type": "code",
      "metadata": {
        "id": "vngN-P9H-KRh",
        "colab_type": "code",
        "outputId": "ef600374-ab3b-4c82-db6c-99388eb48d73",
        "colab": {
          "base_uri": "https://localhost:8080/",
          "height": 1000
        }
      },
      "source": [
        "df_counts"
      ],
      "execution_count": 0,
      "outputs": [
        {
          "output_type": "execute_result",
          "data": {
            "text/html": [
              "<div>\n",
              "<style scoped>\n",
              "    .dataframe tbody tr th:only-of-type {\n",
              "        vertical-align: middle;\n",
              "    }\n",
              "\n",
              "    .dataframe tbody tr th {\n",
              "        vertical-align: top;\n",
              "    }\n",
              "\n",
              "    .dataframe thead th {\n",
              "        text-align: right;\n",
              "    }\n",
              "</style>\n",
              "<table border=\"1\" class=\"dataframe\">\n",
              "  <thead>\n",
              "    <tr style=\"text-align: right;\">\n",
              "      <th></th>\n",
              "      <th>date</th>\n",
              "      <th>hour</th>\n",
              "      <th>minute</th>\n",
              "      <th>_id</th>\n",
              "      <th>date_trunc</th>\n",
              "    </tr>\n",
              "  </thead>\n",
              "  <tbody>\n",
              "    <tr>\n",
              "      <th>0</th>\n",
              "      <td>2019-06-09</td>\n",
              "      <td>20</td>\n",
              "      <td>47</td>\n",
              "      <td>12</td>\n",
              "      <td>2019-06-09 20:40:00</td>\n",
              "    </tr>\n",
              "    <tr>\n",
              "      <th>1</th>\n",
              "      <td>2019-06-09</td>\n",
              "      <td>20</td>\n",
              "      <td>48</td>\n",
              "      <td>12</td>\n",
              "      <td>2019-06-09 20:40:00</td>\n",
              "    </tr>\n",
              "    <tr>\n",
              "      <th>2</th>\n",
              "      <td>2019-06-09</td>\n",
              "      <td>20</td>\n",
              "      <td>49</td>\n",
              "      <td>12</td>\n",
              "      <td>2019-06-09 20:40:00</td>\n",
              "    </tr>\n",
              "    <tr>\n",
              "      <th>3</th>\n",
              "      <td>2019-06-09</td>\n",
              "      <td>20</td>\n",
              "      <td>50</td>\n",
              "      <td>12</td>\n",
              "      <td>2019-06-09 20:50:00</td>\n",
              "    </tr>\n",
              "    <tr>\n",
              "      <th>4</th>\n",
              "      <td>2019-06-09</td>\n",
              "      <td>20</td>\n",
              "      <td>51</td>\n",
              "      <td>12</td>\n",
              "      <td>2019-06-09 20:50:00</td>\n",
              "    </tr>\n",
              "    <tr>\n",
              "      <th>5</th>\n",
              "      <td>2019-06-09</td>\n",
              "      <td>20</td>\n",
              "      <td>52</td>\n",
              "      <td>12</td>\n",
              "      <td>2019-06-09 20:50:00</td>\n",
              "    </tr>\n",
              "    <tr>\n",
              "      <th>6</th>\n",
              "      <td>2019-06-09</td>\n",
              "      <td>20</td>\n",
              "      <td>53</td>\n",
              "      <td>12</td>\n",
              "      <td>2019-06-09 20:50:00</td>\n",
              "    </tr>\n",
              "    <tr>\n",
              "      <th>7</th>\n",
              "      <td>2019-06-09</td>\n",
              "      <td>20</td>\n",
              "      <td>54</td>\n",
              "      <td>12</td>\n",
              "      <td>2019-06-09 20:50:00</td>\n",
              "    </tr>\n",
              "    <tr>\n",
              "      <th>8</th>\n",
              "      <td>2019-06-09</td>\n",
              "      <td>20</td>\n",
              "      <td>55</td>\n",
              "      <td>12</td>\n",
              "      <td>2019-06-09 20:50:00</td>\n",
              "    </tr>\n",
              "    <tr>\n",
              "      <th>9</th>\n",
              "      <td>2019-06-09</td>\n",
              "      <td>20</td>\n",
              "      <td>56</td>\n",
              "      <td>12</td>\n",
              "      <td>2019-06-09 20:50:00</td>\n",
              "    </tr>\n",
              "    <tr>\n",
              "      <th>10</th>\n",
              "      <td>2019-06-09</td>\n",
              "      <td>20</td>\n",
              "      <td>57</td>\n",
              "      <td>12</td>\n",
              "      <td>2019-06-09 20:50:00</td>\n",
              "    </tr>\n",
              "    <tr>\n",
              "      <th>11</th>\n",
              "      <td>2019-06-09</td>\n",
              "      <td>20</td>\n",
              "      <td>58</td>\n",
              "      <td>12</td>\n",
              "      <td>2019-06-09 20:50:00</td>\n",
              "    </tr>\n",
              "    <tr>\n",
              "      <th>12</th>\n",
              "      <td>2019-06-09</td>\n",
              "      <td>20</td>\n",
              "      <td>59</td>\n",
              "      <td>12</td>\n",
              "      <td>2019-06-09 20:50:00</td>\n",
              "    </tr>\n",
              "    <tr>\n",
              "      <th>13</th>\n",
              "      <td>2019-06-09</td>\n",
              "      <td>21</td>\n",
              "      <td>0</td>\n",
              "      <td>12</td>\n",
              "      <td>2019-06-09 21:00:00</td>\n",
              "    </tr>\n",
              "    <tr>\n",
              "      <th>14</th>\n",
              "      <td>2019-06-09</td>\n",
              "      <td>21</td>\n",
              "      <td>1</td>\n",
              "      <td>12</td>\n",
              "      <td>2019-06-09 21:00:00</td>\n",
              "    </tr>\n",
              "    <tr>\n",
              "      <th>15</th>\n",
              "      <td>2019-06-09</td>\n",
              "      <td>21</td>\n",
              "      <td>2</td>\n",
              "      <td>12</td>\n",
              "      <td>2019-06-09 21:00:00</td>\n",
              "    </tr>\n",
              "    <tr>\n",
              "      <th>16</th>\n",
              "      <td>2019-06-09</td>\n",
              "      <td>21</td>\n",
              "      <td>3</td>\n",
              "      <td>12</td>\n",
              "      <td>2019-06-09 21:00:00</td>\n",
              "    </tr>\n",
              "    <tr>\n",
              "      <th>17</th>\n",
              "      <td>2019-06-09</td>\n",
              "      <td>21</td>\n",
              "      <td>4</td>\n",
              "      <td>12</td>\n",
              "      <td>2019-06-09 21:00:00</td>\n",
              "    </tr>\n",
              "    <tr>\n",
              "      <th>18</th>\n",
              "      <td>2019-06-09</td>\n",
              "      <td>21</td>\n",
              "      <td>5</td>\n",
              "      <td>12</td>\n",
              "      <td>2019-06-09 21:00:00</td>\n",
              "    </tr>\n",
              "    <tr>\n",
              "      <th>19</th>\n",
              "      <td>2019-06-09</td>\n",
              "      <td>21</td>\n",
              "      <td>6</td>\n",
              "      <td>12</td>\n",
              "      <td>2019-06-09 21:00:00</td>\n",
              "    </tr>\n",
              "    <tr>\n",
              "      <th>20</th>\n",
              "      <td>2019-06-09</td>\n",
              "      <td>21</td>\n",
              "      <td>7</td>\n",
              "      <td>12</td>\n",
              "      <td>2019-06-09 21:00:00</td>\n",
              "    </tr>\n",
              "    <tr>\n",
              "      <th>21</th>\n",
              "      <td>2019-06-09</td>\n",
              "      <td>21</td>\n",
              "      <td>8</td>\n",
              "      <td>12</td>\n",
              "      <td>2019-06-09 21:00:00</td>\n",
              "    </tr>\n",
              "    <tr>\n",
              "      <th>22</th>\n",
              "      <td>2019-06-09</td>\n",
              "      <td>21</td>\n",
              "      <td>9</td>\n",
              "      <td>12</td>\n",
              "      <td>2019-06-09 21:00:00</td>\n",
              "    </tr>\n",
              "    <tr>\n",
              "      <th>23</th>\n",
              "      <td>2019-06-09</td>\n",
              "      <td>21</td>\n",
              "      <td>10</td>\n",
              "      <td>12</td>\n",
              "      <td>2019-06-09 21:10:00</td>\n",
              "    </tr>\n",
              "    <tr>\n",
              "      <th>24</th>\n",
              "      <td>2019-06-09</td>\n",
              "      <td>21</td>\n",
              "      <td>11</td>\n",
              "      <td>12</td>\n",
              "      <td>2019-06-09 21:10:00</td>\n",
              "    </tr>\n",
              "    <tr>\n",
              "      <th>25</th>\n",
              "      <td>2019-06-09</td>\n",
              "      <td>21</td>\n",
              "      <td>12</td>\n",
              "      <td>12</td>\n",
              "      <td>2019-06-09 21:10:00</td>\n",
              "    </tr>\n",
              "    <tr>\n",
              "      <th>26</th>\n",
              "      <td>2019-06-09</td>\n",
              "      <td>21</td>\n",
              "      <td>13</td>\n",
              "      <td>12</td>\n",
              "      <td>2019-06-09 21:10:00</td>\n",
              "    </tr>\n",
              "    <tr>\n",
              "      <th>27</th>\n",
              "      <td>2019-06-09</td>\n",
              "      <td>21</td>\n",
              "      <td>14</td>\n",
              "      <td>12</td>\n",
              "      <td>2019-06-09 21:10:00</td>\n",
              "    </tr>\n",
              "    <tr>\n",
              "      <th>28</th>\n",
              "      <td>2019-06-09</td>\n",
              "      <td>21</td>\n",
              "      <td>15</td>\n",
              "      <td>12</td>\n",
              "      <td>2019-06-09 21:10:00</td>\n",
              "    </tr>\n",
              "    <tr>\n",
              "      <th>29</th>\n",
              "      <td>2019-06-09</td>\n",
              "      <td>21</td>\n",
              "      <td>16</td>\n",
              "      <td>12</td>\n",
              "      <td>2019-06-09 21:10:00</td>\n",
              "    </tr>\n",
              "    <tr>\n",
              "      <th>...</th>\n",
              "      <td>...</td>\n",
              "      <td>...</td>\n",
              "      <td>...</td>\n",
              "      <td>...</td>\n",
              "      <td>...</td>\n",
              "    </tr>\n",
              "    <tr>\n",
              "      <th>9151</th>\n",
              "      <td>2019-06-16</td>\n",
              "      <td>5</td>\n",
              "      <td>18</td>\n",
              "      <td>12</td>\n",
              "      <td>2019-06-16 05:10:00</td>\n",
              "    </tr>\n",
              "    <tr>\n",
              "      <th>9152</th>\n",
              "      <td>2019-06-16</td>\n",
              "      <td>5</td>\n",
              "      <td>19</td>\n",
              "      <td>12</td>\n",
              "      <td>2019-06-16 05:10:00</td>\n",
              "    </tr>\n",
              "    <tr>\n",
              "      <th>9153</th>\n",
              "      <td>2019-06-16</td>\n",
              "      <td>5</td>\n",
              "      <td>20</td>\n",
              "      <td>12</td>\n",
              "      <td>2019-06-16 05:20:00</td>\n",
              "    </tr>\n",
              "    <tr>\n",
              "      <th>9154</th>\n",
              "      <td>2019-06-16</td>\n",
              "      <td>5</td>\n",
              "      <td>21</td>\n",
              "      <td>12</td>\n",
              "      <td>2019-06-16 05:20:00</td>\n",
              "    </tr>\n",
              "    <tr>\n",
              "      <th>9155</th>\n",
              "      <td>2019-06-16</td>\n",
              "      <td>5</td>\n",
              "      <td>22</td>\n",
              "      <td>12</td>\n",
              "      <td>2019-06-16 05:20:00</td>\n",
              "    </tr>\n",
              "    <tr>\n",
              "      <th>9156</th>\n",
              "      <td>2019-06-16</td>\n",
              "      <td>5</td>\n",
              "      <td>23</td>\n",
              "      <td>12</td>\n",
              "      <td>2019-06-16 05:20:00</td>\n",
              "    </tr>\n",
              "    <tr>\n",
              "      <th>9157</th>\n",
              "      <td>2019-06-16</td>\n",
              "      <td>5</td>\n",
              "      <td>24</td>\n",
              "      <td>12</td>\n",
              "      <td>2019-06-16 05:20:00</td>\n",
              "    </tr>\n",
              "    <tr>\n",
              "      <th>9158</th>\n",
              "      <td>2019-06-16</td>\n",
              "      <td>5</td>\n",
              "      <td>25</td>\n",
              "      <td>12</td>\n",
              "      <td>2019-06-16 05:20:00</td>\n",
              "    </tr>\n",
              "    <tr>\n",
              "      <th>9159</th>\n",
              "      <td>2019-06-16</td>\n",
              "      <td>5</td>\n",
              "      <td>26</td>\n",
              "      <td>12</td>\n",
              "      <td>2019-06-16 05:20:00</td>\n",
              "    </tr>\n",
              "    <tr>\n",
              "      <th>9160</th>\n",
              "      <td>2019-06-16</td>\n",
              "      <td>5</td>\n",
              "      <td>27</td>\n",
              "      <td>12</td>\n",
              "      <td>2019-06-16 05:20:00</td>\n",
              "    </tr>\n",
              "    <tr>\n",
              "      <th>9161</th>\n",
              "      <td>2019-06-16</td>\n",
              "      <td>5</td>\n",
              "      <td>28</td>\n",
              "      <td>12</td>\n",
              "      <td>2019-06-16 05:20:00</td>\n",
              "    </tr>\n",
              "    <tr>\n",
              "      <th>9162</th>\n",
              "      <td>2019-06-16</td>\n",
              "      <td>5</td>\n",
              "      <td>29</td>\n",
              "      <td>12</td>\n",
              "      <td>2019-06-16 05:20:00</td>\n",
              "    </tr>\n",
              "    <tr>\n",
              "      <th>9163</th>\n",
              "      <td>2019-06-16</td>\n",
              "      <td>5</td>\n",
              "      <td>30</td>\n",
              "      <td>12</td>\n",
              "      <td>2019-06-16 05:30:00</td>\n",
              "    </tr>\n",
              "    <tr>\n",
              "      <th>9164</th>\n",
              "      <td>2019-06-16</td>\n",
              "      <td>5</td>\n",
              "      <td>31</td>\n",
              "      <td>12</td>\n",
              "      <td>2019-06-16 05:30:00</td>\n",
              "    </tr>\n",
              "    <tr>\n",
              "      <th>9165</th>\n",
              "      <td>2019-06-16</td>\n",
              "      <td>5</td>\n",
              "      <td>32</td>\n",
              "      <td>12</td>\n",
              "      <td>2019-06-16 05:30:00</td>\n",
              "    </tr>\n",
              "    <tr>\n",
              "      <th>9166</th>\n",
              "      <td>2019-06-16</td>\n",
              "      <td>5</td>\n",
              "      <td>33</td>\n",
              "      <td>12</td>\n",
              "      <td>2019-06-16 05:30:00</td>\n",
              "    </tr>\n",
              "    <tr>\n",
              "      <th>9167</th>\n",
              "      <td>2019-06-16</td>\n",
              "      <td>5</td>\n",
              "      <td>34</td>\n",
              "      <td>12</td>\n",
              "      <td>2019-06-16 05:30:00</td>\n",
              "    </tr>\n",
              "    <tr>\n",
              "      <th>9168</th>\n",
              "      <td>2019-06-16</td>\n",
              "      <td>5</td>\n",
              "      <td>35</td>\n",
              "      <td>12</td>\n",
              "      <td>2019-06-16 05:30:00</td>\n",
              "    </tr>\n",
              "    <tr>\n",
              "      <th>9169</th>\n",
              "      <td>2019-06-16</td>\n",
              "      <td>5</td>\n",
              "      <td>36</td>\n",
              "      <td>12</td>\n",
              "      <td>2019-06-16 05:30:00</td>\n",
              "    </tr>\n",
              "    <tr>\n",
              "      <th>9170</th>\n",
              "      <td>2019-06-16</td>\n",
              "      <td>5</td>\n",
              "      <td>37</td>\n",
              "      <td>12</td>\n",
              "      <td>2019-06-16 05:30:00</td>\n",
              "    </tr>\n",
              "    <tr>\n",
              "      <th>9171</th>\n",
              "      <td>2019-06-16</td>\n",
              "      <td>5</td>\n",
              "      <td>38</td>\n",
              "      <td>12</td>\n",
              "      <td>2019-06-16 05:30:00</td>\n",
              "    </tr>\n",
              "    <tr>\n",
              "      <th>9172</th>\n",
              "      <td>2019-06-16</td>\n",
              "      <td>5</td>\n",
              "      <td>39</td>\n",
              "      <td>12</td>\n",
              "      <td>2019-06-16 05:30:00</td>\n",
              "    </tr>\n",
              "    <tr>\n",
              "      <th>9173</th>\n",
              "      <td>2019-06-16</td>\n",
              "      <td>5</td>\n",
              "      <td>40</td>\n",
              "      <td>12</td>\n",
              "      <td>2019-06-16 05:40:00</td>\n",
              "    </tr>\n",
              "    <tr>\n",
              "      <th>9174</th>\n",
              "      <td>2019-06-16</td>\n",
              "      <td>5</td>\n",
              "      <td>41</td>\n",
              "      <td>12</td>\n",
              "      <td>2019-06-16 05:40:00</td>\n",
              "    </tr>\n",
              "    <tr>\n",
              "      <th>9175</th>\n",
              "      <td>2019-06-16</td>\n",
              "      <td>5</td>\n",
              "      <td>42</td>\n",
              "      <td>12</td>\n",
              "      <td>2019-06-16 05:40:00</td>\n",
              "    </tr>\n",
              "    <tr>\n",
              "      <th>9176</th>\n",
              "      <td>2019-06-16</td>\n",
              "      <td>5</td>\n",
              "      <td>43</td>\n",
              "      <td>12</td>\n",
              "      <td>2019-06-16 05:40:00</td>\n",
              "    </tr>\n",
              "    <tr>\n",
              "      <th>9177</th>\n",
              "      <td>2019-06-16</td>\n",
              "      <td>5</td>\n",
              "      <td>44</td>\n",
              "      <td>12</td>\n",
              "      <td>2019-06-16 05:40:00</td>\n",
              "    </tr>\n",
              "    <tr>\n",
              "      <th>9178</th>\n",
              "      <td>2019-06-16</td>\n",
              "      <td>5</td>\n",
              "      <td>45</td>\n",
              "      <td>12</td>\n",
              "      <td>2019-06-16 05:40:00</td>\n",
              "    </tr>\n",
              "    <tr>\n",
              "      <th>9179</th>\n",
              "      <td>2019-06-16</td>\n",
              "      <td>5</td>\n",
              "      <td>46</td>\n",
              "      <td>12</td>\n",
              "      <td>2019-06-16 05:40:00</td>\n",
              "    </tr>\n",
              "    <tr>\n",
              "      <th>9180</th>\n",
              "      <td>2019-06-16</td>\n",
              "      <td>5</td>\n",
              "      <td>47</td>\n",
              "      <td>11</td>\n",
              "      <td>2019-06-16 05:40:00</td>\n",
              "    </tr>\n",
              "  </tbody>\n",
              "</table>\n",
              "<p>9181 rows × 5 columns</p>\n",
              "</div>"
            ],
            "text/plain": [
              "            date  hour  minute  _id          date_trunc\n",
              "0     2019-06-09    20      47   12 2019-06-09 20:40:00\n",
              "1     2019-06-09    20      48   12 2019-06-09 20:40:00\n",
              "2     2019-06-09    20      49   12 2019-06-09 20:40:00\n",
              "3     2019-06-09    20      50   12 2019-06-09 20:50:00\n",
              "4     2019-06-09    20      51   12 2019-06-09 20:50:00\n",
              "5     2019-06-09    20      52   12 2019-06-09 20:50:00\n",
              "6     2019-06-09    20      53   12 2019-06-09 20:50:00\n",
              "7     2019-06-09    20      54   12 2019-06-09 20:50:00\n",
              "8     2019-06-09    20      55   12 2019-06-09 20:50:00\n",
              "9     2019-06-09    20      56   12 2019-06-09 20:50:00\n",
              "10    2019-06-09    20      57   12 2019-06-09 20:50:00\n",
              "11    2019-06-09    20      58   12 2019-06-09 20:50:00\n",
              "12    2019-06-09    20      59   12 2019-06-09 20:50:00\n",
              "13    2019-06-09    21       0   12 2019-06-09 21:00:00\n",
              "14    2019-06-09    21       1   12 2019-06-09 21:00:00\n",
              "15    2019-06-09    21       2   12 2019-06-09 21:00:00\n",
              "16    2019-06-09    21       3   12 2019-06-09 21:00:00\n",
              "17    2019-06-09    21       4   12 2019-06-09 21:00:00\n",
              "18    2019-06-09    21       5   12 2019-06-09 21:00:00\n",
              "19    2019-06-09    21       6   12 2019-06-09 21:00:00\n",
              "20    2019-06-09    21       7   12 2019-06-09 21:00:00\n",
              "21    2019-06-09    21       8   12 2019-06-09 21:00:00\n",
              "22    2019-06-09    21       9   12 2019-06-09 21:00:00\n",
              "23    2019-06-09    21      10   12 2019-06-09 21:10:00\n",
              "24    2019-06-09    21      11   12 2019-06-09 21:10:00\n",
              "25    2019-06-09    21      12   12 2019-06-09 21:10:00\n",
              "26    2019-06-09    21      13   12 2019-06-09 21:10:00\n",
              "27    2019-06-09    21      14   12 2019-06-09 21:10:00\n",
              "28    2019-06-09    21      15   12 2019-06-09 21:10:00\n",
              "29    2019-06-09    21      16   12 2019-06-09 21:10:00\n",
              "...          ...   ...     ...  ...                 ...\n",
              "9151  2019-06-16     5      18   12 2019-06-16 05:10:00\n",
              "9152  2019-06-16     5      19   12 2019-06-16 05:10:00\n",
              "9153  2019-06-16     5      20   12 2019-06-16 05:20:00\n",
              "9154  2019-06-16     5      21   12 2019-06-16 05:20:00\n",
              "9155  2019-06-16     5      22   12 2019-06-16 05:20:00\n",
              "9156  2019-06-16     5      23   12 2019-06-16 05:20:00\n",
              "9157  2019-06-16     5      24   12 2019-06-16 05:20:00\n",
              "9158  2019-06-16     5      25   12 2019-06-16 05:20:00\n",
              "9159  2019-06-16     5      26   12 2019-06-16 05:20:00\n",
              "9160  2019-06-16     5      27   12 2019-06-16 05:20:00\n",
              "9161  2019-06-16     5      28   12 2019-06-16 05:20:00\n",
              "9162  2019-06-16     5      29   12 2019-06-16 05:20:00\n",
              "9163  2019-06-16     5      30   12 2019-06-16 05:30:00\n",
              "9164  2019-06-16     5      31   12 2019-06-16 05:30:00\n",
              "9165  2019-06-16     5      32   12 2019-06-16 05:30:00\n",
              "9166  2019-06-16     5      33   12 2019-06-16 05:30:00\n",
              "9167  2019-06-16     5      34   12 2019-06-16 05:30:00\n",
              "9168  2019-06-16     5      35   12 2019-06-16 05:30:00\n",
              "9169  2019-06-16     5      36   12 2019-06-16 05:30:00\n",
              "9170  2019-06-16     5      37   12 2019-06-16 05:30:00\n",
              "9171  2019-06-16     5      38   12 2019-06-16 05:30:00\n",
              "9172  2019-06-16     5      39   12 2019-06-16 05:30:00\n",
              "9173  2019-06-16     5      40   12 2019-06-16 05:40:00\n",
              "9174  2019-06-16     5      41   12 2019-06-16 05:40:00\n",
              "9175  2019-06-16     5      42   12 2019-06-16 05:40:00\n",
              "9176  2019-06-16     5      43   12 2019-06-16 05:40:00\n",
              "9177  2019-06-16     5      44   12 2019-06-16 05:40:00\n",
              "9178  2019-06-16     5      45   12 2019-06-16 05:40:00\n",
              "9179  2019-06-16     5      46   12 2019-06-16 05:40:00\n",
              "9180  2019-06-16     5      47   11 2019-06-16 05:40:00\n",
              "\n",
              "[9181 rows x 5 columns]"
            ]
          },
          "metadata": {
            "tags": []
          },
          "execution_count": 22
        }
      ]
    },
    {
      "cell_type": "code",
      "metadata": {
        "id": "vS0y1Pn2-KRk",
        "colab_type": "code",
        "colab": {}
      },
      "source": [
        "df_counts_final = df_counts.groupby('date_trunc')['_id'].sum().reset_index()"
      ],
      "execution_count": 0,
      "outputs": []
    },
    {
      "cell_type": "code",
      "metadata": {
        "id": "sRQCxelN-KRn",
        "colab_type": "code",
        "outputId": "5ff3e823-8d55-464b-b858-632bbc9f2d30",
        "colab": {
          "base_uri": "https://localhost:8080/",
          "height": 645
        }
      },
      "source": [
        "df_counts_final.plot(x='date_trunc', y='_id')"
      ],
      "execution_count": 0,
      "outputs": [
        {
          "output_type": "stream",
          "text": [
            "/usr/local/lib/python3.6/dist-packages/matplotlib/legend.py:449: UserWarning: The handle <matplotlib.lines.Line2D object at 0x7fae2038dbe0> has a label of '_id' which cannot be automatically added to the legend.\n",
            "  'legend.'.format(handle, label))\n"
          ],
          "name": "stderr"
        },
        {
          "output_type": "execute_result",
          "data": {
            "text/plain": [
              "<matplotlib.axes._subplots.AxesSubplot at 0x7fae2038d128>"
            ]
          },
          "metadata": {
            "tags": []
          },
          "execution_count": 24
        },
        {
          "output_type": "display_data",
          "data": {
            "image/png": "[encoded data removed]",
            "text/plain": [
              "<Figure size 1080x576 with 1 Axes>"
            ]
          },
          "metadata": {
            "tags": []
          }
        }
      ]
    },
    {
      "cell_type": "code",
      "metadata": {
        "id": "h_haVGHc-KRq",
        "colab_type": "code",
        "outputId": "fbc884bb-d912-4392-e5c3-ca74ac7109b8",
        "colab": {
          "base_uri": "https://localhost:8080/",
          "height": 206
        }
      },
      "source": [
        "df_counts_final.sort_values('_id', ascending=False).head()"
      ],
      "execution_count": 0,
      "outputs": [
        {
          "output_type": "execute_result",
          "data": {
            "text/html": [
              "<div>\n",
              "<style scoped>\n",
              "    .dataframe tbody tr th:only-of-type {\n",
              "        vertical-align: middle;\n",
              "    }\n",
              "\n",
              "    .dataframe tbody tr th {\n",
              "        vertical-align: top;\n",
              "    }\n",
              "\n",
              "    .dataframe thead th {\n",
              "        text-align: right;\n",
              "    }\n",
              "</style>\n",
              "<table border=\"1\" class=\"dataframe\">\n",
              "  <thead>\n",
              "    <tr style=\"text-align: right;\">\n",
              "      <th></th>\n",
              "      <th>date_trunc</th>\n",
              "      <th>_id</th>\n",
              "    </tr>\n",
              "  </thead>\n",
              "  <tbody>\n",
              "    <tr>\n",
              "      <th>256</th>\n",
              "      <td>2019-06-11 15:20:00</td>\n",
              "      <td>14220</td>\n",
              "    </tr>\n",
              "    <tr>\n",
              "      <th>210</th>\n",
              "      <td>2019-06-11 07:40:00</td>\n",
              "      <td>332</td>\n",
              "    </tr>\n",
              "    <tr>\n",
              "      <th>211</th>\n",
              "      <td>2019-06-11 07:50:00</td>\n",
              "      <td>331</td>\n",
              "    </tr>\n",
              "    <tr>\n",
              "      <th>255</th>\n",
              "      <td>2019-06-11 15:10:00</td>\n",
              "      <td>279</td>\n",
              "    </tr>\n",
              "    <tr>\n",
              "      <th>250</th>\n",
              "      <td>2019-06-11 14:20:00</td>\n",
              "      <td>237</td>\n",
              "    </tr>\n",
              "  </tbody>\n",
              "</table>\n",
              "</div>"
            ],
            "text/plain": [
              "             date_trunc    _id\n",
              "256 2019-06-11 15:20:00  14220\n",
              "210 2019-06-11 07:40:00    332\n",
              "211 2019-06-11 07:50:00    331\n",
              "255 2019-06-11 15:10:00    279\n",
              "250 2019-06-11 14:20:00    237"
            ]
          },
          "metadata": {
            "tags": []
          },
          "execution_count": 25
        }
      ]
    },
    {
      "cell_type": "code",
      "metadata": {
        "id": "mBmu20u7-KRt",
        "colab_type": "code",
        "colab": {}
      },
      "source": [
        "df_counts_final = df_counts_final.loc[df_counts_final['_id']<1000]"
      ],
      "execution_count": 0,
      "outputs": []
    },
    {
      "cell_type": "code",
      "metadata": {
        "id": "fnFxeiUh-KRu",
        "colab_type": "code",
        "colab": {}
      },
      "source": [
        "df = df_counts_final.copy()"
      ],
      "execution_count": 0,
      "outputs": []
    },
    {
      "cell_type": "code",
      "metadata": {
        "id": "_nE4u2Tv-KRw",
        "colab_type": "code",
        "colab": {}
      },
      "source": [
        "df = df.rename(columns={'_id':'count'})"
      ],
      "execution_count": 0,
      "outputs": []
    },
    {
      "cell_type": "code",
      "metadata": {
        "id": "0UY5xSLD-KRy",
        "colab_type": "code",
        "colab": {}
      },
      "source": [
        "df['hours'] = df['date_trunc'].dt.hour\n",
        "df['minutes'] = (df['date_trunc'].dt.minute//10 < 3).astype(int)\n",
        "df['daylight'] = ((df['hours'] >= 6) & (df['hours'] <= 22)).astype(int)"
      ],
      "execution_count": 0,
      "outputs": []
    },
    {
      "cell_type": "code",
      "metadata": {
        "id": "JEMRRhQg-KR0",
        "colab_type": "code",
        "outputId": "c83ff99d-d6b4-478c-82fc-6574f103b8c7",
        "colab": {
          "base_uri": "https://localhost:8080/",
          "height": 363
        }
      },
      "source": [
        "df.head(10)"
      ],
      "execution_count": 0,
      "outputs": [
        {
          "output_type": "execute_result",
          "data": {
            "text/html": [
              "<div>\n",
              "<style scoped>\n",
              "    .dataframe tbody tr th:only-of-type {\n",
              "        vertical-align: middle;\n",
              "    }\n",
              "\n",
              "    .dataframe tbody tr th {\n",
              "        vertical-align: top;\n",
              "    }\n",
              "\n",
              "    .dataframe thead th {\n",
              "        text-align: right;\n",
              "    }\n",
              "</style>\n",
              "<table border=\"1\" class=\"dataframe\">\n",
              "  <thead>\n",
              "    <tr style=\"text-align: right;\">\n",
              "      <th></th>\n",
              "      <th>date_trunc</th>\n",
              "      <th>count</th>\n",
              "      <th>hours</th>\n",
              "      <th>minutes</th>\n",
              "      <th>daylight</th>\n",
              "    </tr>\n",
              "  </thead>\n",
              "  <tbody>\n",
              "    <tr>\n",
              "      <th>0</th>\n",
              "      <td>2019-06-09 20:40:00</td>\n",
              "      <td>36</td>\n",
              "      <td>20</td>\n",
              "      <td>0</td>\n",
              "      <td>1</td>\n",
              "    </tr>\n",
              "    <tr>\n",
              "      <th>1</th>\n",
              "      <td>2019-06-09 20:50:00</td>\n",
              "      <td>120</td>\n",
              "      <td>20</td>\n",
              "      <td>0</td>\n",
              "      <td>1</td>\n",
              "    </tr>\n",
              "    <tr>\n",
              "      <th>2</th>\n",
              "      <td>2019-06-09 21:00:00</td>\n",
              "      <td>120</td>\n",
              "      <td>21</td>\n",
              "      <td>1</td>\n",
              "      <td>1</td>\n",
              "    </tr>\n",
              "    <tr>\n",
              "      <th>3</th>\n",
              "      <td>2019-06-09 21:10:00</td>\n",
              "      <td>120</td>\n",
              "      <td>21</td>\n",
              "      <td>1</td>\n",
              "      <td>1</td>\n",
              "    </tr>\n",
              "    <tr>\n",
              "      <th>4</th>\n",
              "      <td>2019-06-09 21:20:00</td>\n",
              "      <td>120</td>\n",
              "      <td>21</td>\n",
              "      <td>1</td>\n",
              "      <td>1</td>\n",
              "    </tr>\n",
              "    <tr>\n",
              "      <th>5</th>\n",
              "      <td>2019-06-09 21:30:00</td>\n",
              "      <td>120</td>\n",
              "      <td>21</td>\n",
              "      <td>0</td>\n",
              "      <td>1</td>\n",
              "    </tr>\n",
              "    <tr>\n",
              "      <th>6</th>\n",
              "      <td>2019-06-09 21:40:00</td>\n",
              "      <td>120</td>\n",
              "      <td>21</td>\n",
              "      <td>0</td>\n",
              "      <td>1</td>\n",
              "    </tr>\n",
              "    <tr>\n",
              "      <th>7</th>\n",
              "      <td>2019-06-09 21:50:00</td>\n",
              "      <td>120</td>\n",
              "      <td>21</td>\n",
              "      <td>0</td>\n",
              "      <td>1</td>\n",
              "    </tr>\n",
              "    <tr>\n",
              "      <th>8</th>\n",
              "      <td>2019-06-09 22:00:00</td>\n",
              "      <td>120</td>\n",
              "      <td>22</td>\n",
              "      <td>1</td>\n",
              "      <td>1</td>\n",
              "    </tr>\n",
              "    <tr>\n",
              "      <th>9</th>\n",
              "      <td>2019-06-09 22:10:00</td>\n",
              "      <td>120</td>\n",
              "      <td>22</td>\n",
              "      <td>1</td>\n",
              "      <td>1</td>\n",
              "    </tr>\n",
              "  </tbody>\n",
              "</table>\n",
              "</div>"
            ],
            "text/plain": [
              "           date_trunc  count  hours  minutes  daylight\n",
              "0 2019-06-09 20:40:00     36     20        0         1\n",
              "1 2019-06-09 20:50:00    120     20        0         1\n",
              "2 2019-06-09 21:00:00    120     21        1         1\n",
              "3 2019-06-09 21:10:00    120     21        1         1\n",
              "4 2019-06-09 21:20:00    120     21        1         1\n",
              "5 2019-06-09 21:30:00    120     21        0         1\n",
              "6 2019-06-09 21:40:00    120     21        0         1\n",
              "7 2019-06-09 21:50:00    120     21        0         1\n",
              "8 2019-06-09 22:00:00    120     22        1         1\n",
              "9 2019-06-09 22:10:00    120     22        1         1"
            ]
          },
          "metadata": {
            "tags": []
          },
          "execution_count": 30
        }
      ]
    },
    {
      "cell_type": "code",
      "metadata": {
        "id": "dps3G4FC-KR2",
        "colab_type": "code",
        "colab": {}
      },
      "source": [
        "# the day of the week (Monday=0, Sunday=6) and if it's a week end day or week day.\n",
        "df['DayOfTheWeek'] = df['date_trunc'].dt.dayofweek\n",
        "# df['WeekDay'] = (df['DayOfTheWeek'] < 5).astype(int)\n"
      ],
      "execution_count": 0,
      "outputs": []
    },
    {
      "cell_type": "code",
      "metadata": {
        "id": "Ai_UnbM6-KR5",
        "colab_type": "code",
        "colab": {}
      },
      "source": [
        "df['time_epoch'] = (df['date_trunc'].astype(np.int64)/100000000000).astype(np.int64)"
      ],
      "execution_count": 0,
      "outputs": []
    },
    {
      "cell_type": "code",
      "metadata": {
        "id": "suQZEZns-KR7",
        "colab_type": "code",
        "colab": {}
      },
      "source": [
        "# df['categories'] = df['WeekDay']*2 + df['daylight']"
      ],
      "execution_count": 0,
      "outputs": []
    },
    {
      "cell_type": "code",
      "metadata": {
        "id": "7f1n6gbB-KR9",
        "colab_type": "code",
        "colab": {}
      },
      "source": [
        "data = df[['count', 'hours', 'minutes']] #'DayOfTheWeek',, 'WeekDay', , 'minutes'\n",
        "min_max_scaler = preprocessing.StandardScaler()\n",
        "np_scaled = min_max_scaler.fit_transform(data)\n",
        "data = pd.DataFrame(np_scaled)\n",
        "# reduce to 2 importants features\n",
        "pca = PCA(n_components=2, random_state=123)\n",
        "data = pca.fit_transform(data)\n",
        "# standardize these 2 new features\n",
        "min_max_scaler = preprocessing.StandardScaler()\n",
        "np_scaled = min_max_scaler.fit_transform(data)\n",
        "data = pd.DataFrame(np_scaled)"
      ],
      "execution_count": 0,
      "outputs": []
    },
    {
      "cell_type": "code",
      "metadata": {
        "id": "x9ytz04Z-KR_",
        "colab_type": "code",
        "outputId": "420acd53-26b0-495d-cce3-bc112d0c82d5",
        "colab": {
          "base_uri": "https://localhost:8080/",
          "height": 515
        }
      },
      "source": [
        "n_cluster = range(1, 20)\n",
        "kmeans = [KMeans(n_clusters=i, random_state=123).fit(data) for i in n_cluster]\n",
        "scores = [kmeans[i].score(data) for i in range(len(kmeans))]\n",
        "fig, ax = plt.subplots()\n",
        "ax.plot(n_cluster, scores)\n",
        "plt.show()"
      ],
      "execution_count": 0,
      "outputs": [
        {
          "output_type": "display_data",
          "data": {
            "image/png": "[encoded data removed]",
            "text/plain": [
              "<Figure size 1080x576 with 1 Axes>"
            ]
          },
          "metadata": {
            "tags": []
          }
        }
      ]
    },
    {
      "cell_type": "code",
      "metadata": {
        "id": "KubDZnAH-KSC",
        "colab_type": "code",
        "colab": {}
      },
      "source": [
        "cluster_model = kmeans[14]"
      ],
      "execution_count": 0,
      "outputs": []
    },
    {
      "cell_type": "code",
      "metadata": {
        "id": "5J030jCP-KSF",
        "colab_type": "code",
        "outputId": "a37f7465-c2fe-4912-e091-4f7fedfcd8d0",
        "colab": {
          "base_uri": "https://localhost:8080/",
          "height": 310
        }
      },
      "source": [
        "df['cluster'] = cluster_model.predict(data)\n",
        "df['principal_feature1'] = data[0]\n",
        "df['principal_feature2'] = data[1]\n",
        "df['cluster'].value_counts()"
      ],
      "execution_count": 0,
      "outputs": [
        {
          "output_type": "execute_result",
          "data": {
            "text/plain": [
              "8     129\n",
              "1     103\n",
              "4      95\n",
              "0      90\n",
              "3      88\n",
              "10     85\n",
              "14     84\n",
              "12     83\n",
              "5      81\n",
              "13     63\n",
              "11      6\n",
              "7       5\n",
              "2       3\n",
              "6       2\n",
              "9       1\n",
              "Name: cluster, dtype: int64"
            ]
          },
          "metadata": {
            "tags": []
          },
          "execution_count": 37
        }
      ]
    },
    {
      "cell_type": "code",
      "metadata": {
        "id": "YsHbKexu-KSH",
        "colab_type": "code",
        "outputId": "5b323911-7d8b-4b67-9da4-509129b66b15",
        "colab": {
          "base_uri": "https://localhost:8080/",
          "height": 515
        }
      },
      "source": [
        "fig, ax = plt.subplots()\n",
        "colors = {0:'red', 1:'blue', 2:'green', 3:'pink', 4:'black', 5:'orange', 6:'cyan', 7:'yellow', 8:'brown', 9:'purple', 10:'white', \n",
        "          11: 'grey', 12:'lightblue', 13:'lightgreen', 14: 'darkgrey'}\n",
        "ax.scatter(df['principal_feature1'], df['principal_feature2'], c=df[\"cluster\"].apply(lambda x: colors[x]))\n",
        "ax.scatter(cluster_model.cluster_centers_[:,0], cluster_model.cluster_centers_[:,1], s=100, c='darkblue')\n",
        "plt.show()"
      ],
      "execution_count": 0,
      "outputs": [
        {
          "output_type": "display_data",
          "data": {
            "image/png": "[encoded data removed]",
            "text/plain": [
              "<Figure size 1080x576 with 1 Axes>"
            ]
          },
          "metadata": {
            "tags": []
          }
        }
      ]
    },
    {
      "cell_type": "code",
      "metadata": {
        "id": "17I5z0Gv-KSK",
        "colab_type": "code",
        "colab": {}
      },
      "source": [
        "outliers_fraction = 0.003"
      ],
      "execution_count": 0,
      "outputs": []
    },
    {
      "cell_type": "code",
      "metadata": {
        "id": "_lJXPtWx-KSM",
        "colab_type": "code",
        "outputId": "6d4c9925-3513-4c97-a2e7-579900b5b173",
        "colab": {
          "base_uri": "https://localhost:8080/",
          "height": 74
        }
      },
      "source": [
        "distance = getDistanceByPoint(data, cluster_model)\n",
        "number_of_outliers = int(outliers_fraction*len(distance))\n",
        "threshold = distance.nlargest(number_of_outliers).min()\n",
        "# anomaly21 contain the anomaly result of method 2.1 Cluster (0:normal, 1:anomaly) \n",
        "df['anomaly21'] = (distance >= threshold).astype(int)"
      ],
      "execution_count": 0,
      "outputs": [
        {
          "output_type": "stream",
          "text": [
            "/usr/local/lib/python3.6/dist-packages/ipykernel_launcher.py:6: FutureWarning: set_value is deprecated and will be removed in a future release. Please use .at[] or .iat[] accessors instead\n",
            "  \n"
          ],
          "name": "stderr"
        }
      ]
    },
    {
      "cell_type": "code",
      "metadata": {
        "id": "hZ8fz1c7-KSP",
        "colab_type": "code",
        "outputId": "d207d0f3-90d9-4311-a371-e210e5ba0fbf",
        "colab": {
          "base_uri": "https://localhost:8080/",
          "height": 1000
        }
      },
      "source": [
        "df"
      ],
      "execution_count": 0,
      "outputs": [
        {
          "output_type": "execute_result",
          "data": {
            "text/html": [
              "<div>\n",
              "<style scoped>\n",
              "    .dataframe tbody tr th:only-of-type {\n",
              "        vertical-align: middle;\n",
              "    }\n",
              "\n",
              "    .dataframe tbody tr th {\n",
              "        vertical-align: top;\n",
              "    }\n",
              "\n",
              "    .dataframe thead th {\n",
              "        text-align: right;\n",
              "    }\n",
              "</style>\n",
              "<table border=\"1\" class=\"dataframe\">\n",
              "  <thead>\n",
              "    <tr style=\"text-align: right;\">\n",
              "      <th></th>\n",
              "      <th>date_trunc</th>\n",
              "      <th>count</th>\n",
              "      <th>hours</th>\n",
              "      <th>minutes</th>\n",
              "      <th>daylight</th>\n",
              "      <th>DayOfTheWeek</th>\n",
              "      <th>time_epoch</th>\n",
              "      <th>cluster</th>\n",
              "      <th>principal_feature1</th>\n",
              "      <th>principal_feature2</th>\n",
              "      <th>anomaly21</th>\n",
              "    </tr>\n",
              "  </thead>\n",
              "  <tbody>\n",
              "    <tr>\n",
              "      <th>0</th>\n",
              "      <td>2019-06-09 20:40:00</td>\n",
              "      <td>36</td>\n",
              "      <td>20</td>\n",
              "      <td>0</td>\n",
              "      <td>1</td>\n",
              "      <td>6</td>\n",
              "      <td>15601128</td>\n",
              "      <td>9</td>\n",
              "      <td>0.656561</td>\n",
              "      <td>-5.453772</td>\n",
              "      <td>0.0</td>\n",
              "    </tr>\n",
              "    <tr>\n",
              "      <th>1</th>\n",
              "      <td>2019-06-09 20:50:00</td>\n",
              "      <td>120</td>\n",
              "      <td>20</td>\n",
              "      <td>0</td>\n",
              "      <td>1</td>\n",
              "      <td>6</td>\n",
              "      <td>15601134</td>\n",
              "      <td>3</td>\n",
              "      <td>1.513623</td>\n",
              "      <td>-0.416281</td>\n",
              "      <td>0.0</td>\n",
              "    </tr>\n",
              "    <tr>\n",
              "      <th>2</th>\n",
              "      <td>2019-06-09 21:00:00</td>\n",
              "      <td>120</td>\n",
              "      <td>21</td>\n",
              "      <td>1</td>\n",
              "      <td>1</td>\n",
              "      <td>6</td>\n",
              "      <td>15601140</td>\n",
              "      <td>5</td>\n",
              "      <td>0.116955</td>\n",
              "      <td>-0.981054</td>\n",
              "      <td>0.0</td>\n",
              "    </tr>\n",
              "    <tr>\n",
              "      <th>3</th>\n",
              "      <td>2019-06-09 21:10:00</td>\n",
              "      <td>120</td>\n",
              "      <td>21</td>\n",
              "      <td>1</td>\n",
              "      <td>1</td>\n",
              "      <td>6</td>\n",
              "      <td>15601146</td>\n",
              "      <td>5</td>\n",
              "      <td>0.116955</td>\n",
              "      <td>-0.981054</td>\n",
              "      <td>0.0</td>\n",
              "    </tr>\n",
              "    <tr>\n",
              "      <th>4</th>\n",
              "      <td>2019-06-09 21:20:00</td>\n",
              "      <td>120</td>\n",
              "      <td>21</td>\n",
              "      <td>1</td>\n",
              "      <td>1</td>\n",
              "      <td>6</td>\n",
              "      <td>15601152</td>\n",
              "      <td>5</td>\n",
              "      <td>0.116955</td>\n",
              "      <td>-0.981054</td>\n",
              "      <td>0.0</td>\n",
              "    </tr>\n",
              "    <tr>\n",
              "      <th>5</th>\n",
              "      <td>2019-06-09 21:30:00</td>\n",
              "      <td>120</td>\n",
              "      <td>21</td>\n",
              "      <td>0</td>\n",
              "      <td>1</td>\n",
              "      <td>6</td>\n",
              "      <td>15601158</td>\n",
              "      <td>13</td>\n",
              "      <td>1.604871</td>\n",
              "      <td>-0.482634</td>\n",
              "      <td>0.0</td>\n",
              "    </tr>\n",
              "    <tr>\n",
              "      <th>6</th>\n",
              "      <td>2019-06-09 21:40:00</td>\n",
              "      <td>120</td>\n",
              "      <td>21</td>\n",
              "      <td>0</td>\n",
              "      <td>1</td>\n",
              "      <td>6</td>\n",
              "      <td>15601164</td>\n",
              "      <td>13</td>\n",
              "      <td>1.604871</td>\n",
              "      <td>-0.482634</td>\n",
              "      <td>0.0</td>\n",
              "    </tr>\n",
              "    <tr>\n",
              "      <th>7</th>\n",
              "      <td>2019-06-09 21:50:00</td>\n",
              "      <td>120</td>\n",
              "      <td>21</td>\n",
              "      <td>0</td>\n",
              "      <td>1</td>\n",
              "      <td>6</td>\n",
              "      <td>15601170</td>\n",
              "      <td>13</td>\n",
              "      <td>1.604871</td>\n",
              "      <td>-0.482634</td>\n",
              "      <td>0.0</td>\n",
              "    </tr>\n",
              "    <tr>\n",
              "      <th>8</th>\n",
              "      <td>2019-06-09 22:00:00</td>\n",
              "      <td>120</td>\n",
              "      <td>22</td>\n",
              "      <td>1</td>\n",
              "      <td>1</td>\n",
              "      <td>6</td>\n",
              "      <td>15601176</td>\n",
              "      <td>5</td>\n",
              "      <td>0.208204</td>\n",
              "      <td>-1.047407</td>\n",
              "      <td>0.0</td>\n",
              "    </tr>\n",
              "    <tr>\n",
              "      <th>9</th>\n",
              "      <td>2019-06-09 22:10:00</td>\n",
              "      <td>120</td>\n",
              "      <td>22</td>\n",
              "      <td>1</td>\n",
              "      <td>1</td>\n",
              "      <td>6</td>\n",
              "      <td>15601182</td>\n",
              "      <td>5</td>\n",
              "      <td>0.208204</td>\n",
              "      <td>-1.047407</td>\n",
              "      <td>0.0</td>\n",
              "    </tr>\n",
              "    <tr>\n",
              "      <th>10</th>\n",
              "      <td>2019-06-09 22:20:00</td>\n",
              "      <td>120</td>\n",
              "      <td>22</td>\n",
              "      <td>1</td>\n",
              "      <td>1</td>\n",
              "      <td>6</td>\n",
              "      <td>15601188</td>\n",
              "      <td>5</td>\n",
              "      <td>0.208204</td>\n",
              "      <td>-1.047407</td>\n",
              "      <td>0.0</td>\n",
              "    </tr>\n",
              "    <tr>\n",
              "      <th>11</th>\n",
              "      <td>2019-06-09 22:30:00</td>\n",
              "      <td>120</td>\n",
              "      <td>22</td>\n",
              "      <td>0</td>\n",
              "      <td>1</td>\n",
              "      <td>6</td>\n",
              "      <td>15601194</td>\n",
              "      <td>13</td>\n",
              "      <td>1.696120</td>\n",
              "      <td>-0.548987</td>\n",
              "      <td>0.0</td>\n",
              "    </tr>\n",
              "    <tr>\n",
              "      <th>12</th>\n",
              "      <td>2019-06-09 22:40:00</td>\n",
              "      <td>120</td>\n",
              "      <td>22</td>\n",
              "      <td>0</td>\n",
              "      <td>1</td>\n",
              "      <td>6</td>\n",
              "      <td>15601200</td>\n",
              "      <td>13</td>\n",
              "      <td>1.696120</td>\n",
              "      <td>-0.548987</td>\n",
              "      <td>0.0</td>\n",
              "    </tr>\n",
              "    <tr>\n",
              "      <th>13</th>\n",
              "      <td>2019-06-09 22:50:00</td>\n",
              "      <td>120</td>\n",
              "      <td>22</td>\n",
              "      <td>0</td>\n",
              "      <td>1</td>\n",
              "      <td>6</td>\n",
              "      <td>15601206</td>\n",
              "      <td>13</td>\n",
              "      <td>1.696120</td>\n",
              "      <td>-0.548987</td>\n",
              "      <td>0.0</td>\n",
              "    </tr>\n",
              "    <tr>\n",
              "      <th>14</th>\n",
              "      <td>2019-06-09 23:00:00</td>\n",
              "      <td>120</td>\n",
              "      <td>23</td>\n",
              "      <td>1</td>\n",
              "      <td>0</td>\n",
              "      <td>6</td>\n",
              "      <td>15601212</td>\n",
              "      <td>5</td>\n",
              "      <td>0.299452</td>\n",
              "      <td>-1.113760</td>\n",
              "      <td>0.0</td>\n",
              "    </tr>\n",
              "    <tr>\n",
              "      <th>15</th>\n",
              "      <td>2019-06-09 23:10:00</td>\n",
              "      <td>120</td>\n",
              "      <td>23</td>\n",
              "      <td>1</td>\n",
              "      <td>0</td>\n",
              "      <td>6</td>\n",
              "      <td>15601218</td>\n",
              "      <td>5</td>\n",
              "      <td>0.299452</td>\n",
              "      <td>-1.113760</td>\n",
              "      <td>0.0</td>\n",
              "    </tr>\n",
              "    <tr>\n",
              "      <th>16</th>\n",
              "      <td>2019-06-09 23:20:00</td>\n",
              "      <td>120</td>\n",
              "      <td>23</td>\n",
              "      <td>1</td>\n",
              "      <td>0</td>\n",
              "      <td>6</td>\n",
              "      <td>15601224</td>\n",
              "      <td>5</td>\n",
              "      <td>0.299452</td>\n",
              "      <td>-1.113760</td>\n",
              "      <td>0.0</td>\n",
              "    </tr>\n",
              "    <tr>\n",
              "      <th>17</th>\n",
              "      <td>2019-06-09 23:30:00</td>\n",
              "      <td>120</td>\n",
              "      <td>23</td>\n",
              "      <td>0</td>\n",
              "      <td>0</td>\n",
              "      <td>6</td>\n",
              "      <td>15601230</td>\n",
              "      <td>13</td>\n",
              "      <td>1.787369</td>\n",
              "      <td>-0.615340</td>\n",
              "      <td>0.0</td>\n",
              "    </tr>\n",
              "    <tr>\n",
              "      <th>18</th>\n",
              "      <td>2019-06-09 23:40:00</td>\n",
              "      <td>120</td>\n",
              "      <td>23</td>\n",
              "      <td>0</td>\n",
              "      <td>0</td>\n",
              "      <td>6</td>\n",
              "      <td>15601236</td>\n",
              "      <td>13</td>\n",
              "      <td>1.787369</td>\n",
              "      <td>-0.615340</td>\n",
              "      <td>0.0</td>\n",
              "    </tr>\n",
              "    <tr>\n",
              "      <th>19</th>\n",
              "      <td>2019-06-09 23:50:00</td>\n",
              "      <td>120</td>\n",
              "      <td>23</td>\n",
              "      <td>0</td>\n",
              "      <td>0</td>\n",
              "      <td>6</td>\n",
              "      <td>15601242</td>\n",
              "      <td>13</td>\n",
              "      <td>1.787369</td>\n",
              "      <td>-0.615340</td>\n",
              "      <td>0.0</td>\n",
              "    </tr>\n",
              "    <tr>\n",
              "      <th>20</th>\n",
              "      <td>2019-06-10 00:00:00</td>\n",
              "      <td>120</td>\n",
              "      <td>0</td>\n",
              "      <td>1</td>\n",
              "      <td>0</td>\n",
              "      <td>0</td>\n",
              "      <td>15601248</td>\n",
              "      <td>14</td>\n",
              "      <td>-1.799269</td>\n",
              "      <td>0.412363</td>\n",
              "      <td>0.0</td>\n",
              "    </tr>\n",
              "    <tr>\n",
              "      <th>21</th>\n",
              "      <td>2019-06-10 00:10:00</td>\n",
              "      <td>120</td>\n",
              "      <td>0</td>\n",
              "      <td>1</td>\n",
              "      <td>0</td>\n",
              "      <td>0</td>\n",
              "      <td>15601254</td>\n",
              "      <td>14</td>\n",
              "      <td>-1.799269</td>\n",
              "      <td>0.412363</td>\n",
              "      <td>0.0</td>\n",
              "    </tr>\n",
              "    <tr>\n",
              "      <th>22</th>\n",
              "      <td>2019-06-10 00:20:00</td>\n",
              "      <td>120</td>\n",
              "      <td>0</td>\n",
              "      <td>1</td>\n",
              "      <td>0</td>\n",
              "      <td>0</td>\n",
              "      <td>15601260</td>\n",
              "      <td>14</td>\n",
              "      <td>-1.799269</td>\n",
              "      <td>0.412363</td>\n",
              "      <td>0.0</td>\n",
              "    </tr>\n",
              "    <tr>\n",
              "      <th>23</th>\n",
              "      <td>2019-06-10 00:30:00</td>\n",
              "      <td>120</td>\n",
              "      <td>0</td>\n",
              "      <td>0</td>\n",
              "      <td>0</td>\n",
              "      <td>0</td>\n",
              "      <td>15601266</td>\n",
              "      <td>8</td>\n",
              "      <td>-0.311353</td>\n",
              "      <td>0.910782</td>\n",
              "      <td>0.0</td>\n",
              "    </tr>\n",
              "    <tr>\n",
              "      <th>24</th>\n",
              "      <td>2019-06-10 00:40:00</td>\n",
              "      <td>120</td>\n",
              "      <td>0</td>\n",
              "      <td>0</td>\n",
              "      <td>0</td>\n",
              "      <td>0</td>\n",
              "      <td>15601272</td>\n",
              "      <td>8</td>\n",
              "      <td>-0.311353</td>\n",
              "      <td>0.910782</td>\n",
              "      <td>0.0</td>\n",
              "    </tr>\n",
              "    <tr>\n",
              "      <th>25</th>\n",
              "      <td>2019-06-10 00:50:00</td>\n",
              "      <td>120</td>\n",
              "      <td>0</td>\n",
              "      <td>0</td>\n",
              "      <td>0</td>\n",
              "      <td>0</td>\n",
              "      <td>15601278</td>\n",
              "      <td>8</td>\n",
              "      <td>-0.311353</td>\n",
              "      <td>0.910782</td>\n",
              "      <td>0.0</td>\n",
              "    </tr>\n",
              "    <tr>\n",
              "      <th>26</th>\n",
              "      <td>2019-06-10 01:00:00</td>\n",
              "      <td>120</td>\n",
              "      <td>1</td>\n",
              "      <td>1</td>\n",
              "      <td>0</td>\n",
              "      <td>0</td>\n",
              "      <td>15601284</td>\n",
              "      <td>14</td>\n",
              "      <td>-1.708021</td>\n",
              "      <td>0.346009</td>\n",
              "      <td>0.0</td>\n",
              "    </tr>\n",
              "    <tr>\n",
              "      <th>27</th>\n",
              "      <td>2019-06-10 01:10:00</td>\n",
              "      <td>120</td>\n",
              "      <td>1</td>\n",
              "      <td>1</td>\n",
              "      <td>0</td>\n",
              "      <td>0</td>\n",
              "      <td>15601290</td>\n",
              "      <td>14</td>\n",
              "      <td>-1.708021</td>\n",
              "      <td>0.346009</td>\n",
              "      <td>0.0</td>\n",
              "    </tr>\n",
              "    <tr>\n",
              "      <th>28</th>\n",
              "      <td>2019-06-10 01:20:00</td>\n",
              "      <td>120</td>\n",
              "      <td>1</td>\n",
              "      <td>1</td>\n",
              "      <td>0</td>\n",
              "      <td>0</td>\n",
              "      <td>15601296</td>\n",
              "      <td>14</td>\n",
              "      <td>-1.708021</td>\n",
              "      <td>0.346009</td>\n",
              "      <td>0.0</td>\n",
              "    </tr>\n",
              "    <tr>\n",
              "      <th>29</th>\n",
              "      <td>2019-06-10 01:30:00</td>\n",
              "      <td>120</td>\n",
              "      <td>1</td>\n",
              "      <td>0</td>\n",
              "      <td>0</td>\n",
              "      <td>0</td>\n",
              "      <td>15601302</td>\n",
              "      <td>8</td>\n",
              "      <td>-0.220104</td>\n",
              "      <td>0.844429</td>\n",
              "      <td>0.0</td>\n",
              "    </tr>\n",
              "    <tr>\n",
              "      <th>...</th>\n",
              "      <td>...</td>\n",
              "      <td>...</td>\n",
              "      <td>...</td>\n",
              "      <td>...</td>\n",
              "      <td>...</td>\n",
              "      <td>...</td>\n",
              "      <td>...</td>\n",
              "      <td>...</td>\n",
              "      <td>...</td>\n",
              "      <td>...</td>\n",
              "      <td>...</td>\n",
              "    </tr>\n",
              "    <tr>\n",
              "      <th>889</th>\n",
              "      <td>2019-06-16 00:50:00</td>\n",
              "      <td>120</td>\n",
              "      <td>0</td>\n",
              "      <td>0</td>\n",
              "      <td>0</td>\n",
              "      <td>6</td>\n",
              "      <td>15606462</td>\n",
              "      <td>8</td>\n",
              "      <td>-1.708021</td>\n",
              "      <td>0.346009</td>\n",
              "      <td>0.0</td>\n",
              "    </tr>\n",
              "    <tr>\n",
              "      <th>890</th>\n",
              "      <td>2019-06-16 01:00:00</td>\n",
              "      <td>120</td>\n",
              "      <td>1</td>\n",
              "      <td>1</td>\n",
              "      <td>0</td>\n",
              "      <td>6</td>\n",
              "      <td>15606468</td>\n",
              "      <td>14</td>\n",
              "      <td>-1.708021</td>\n",
              "      <td>0.346009</td>\n",
              "      <td>0.0</td>\n",
              "    </tr>\n",
              "    <tr>\n",
              "      <th>891</th>\n",
              "      <td>2019-06-16 01:10:00</td>\n",
              "      <td>120</td>\n",
              "      <td>1</td>\n",
              "      <td>1</td>\n",
              "      <td>0</td>\n",
              "      <td>6</td>\n",
              "      <td>15606474</td>\n",
              "      <td>14</td>\n",
              "      <td>-1.708021</td>\n",
              "      <td>0.346009</td>\n",
              "      <td>0.0</td>\n",
              "    </tr>\n",
              "    <tr>\n",
              "      <th>892</th>\n",
              "      <td>2019-06-16 01:20:00</td>\n",
              "      <td>120</td>\n",
              "      <td>1</td>\n",
              "      <td>1</td>\n",
              "      <td>0</td>\n",
              "      <td>6</td>\n",
              "      <td>15606480</td>\n",
              "      <td>14</td>\n",
              "      <td>-0.220104</td>\n",
              "      <td>0.844429</td>\n",
              "      <td>0.0</td>\n",
              "    </tr>\n",
              "    <tr>\n",
              "      <th>893</th>\n",
              "      <td>2019-06-16 01:30:00</td>\n",
              "      <td>120</td>\n",
              "      <td>1</td>\n",
              "      <td>0</td>\n",
              "      <td>0</td>\n",
              "      <td>6</td>\n",
              "      <td>15606486</td>\n",
              "      <td>8</td>\n",
              "      <td>-0.220104</td>\n",
              "      <td>0.844429</td>\n",
              "      <td>0.0</td>\n",
              "    </tr>\n",
              "    <tr>\n",
              "      <th>894</th>\n",
              "      <td>2019-06-16 01:40:00</td>\n",
              "      <td>120</td>\n",
              "      <td>1</td>\n",
              "      <td>0</td>\n",
              "      <td>0</td>\n",
              "      <td>6</td>\n",
              "      <td>15606492</td>\n",
              "      <td>8</td>\n",
              "      <td>-0.220104</td>\n",
              "      <td>0.844429</td>\n",
              "      <td>0.0</td>\n",
              "    </tr>\n",
              "    <tr>\n",
              "      <th>895</th>\n",
              "      <td>2019-06-16 01:50:00</td>\n",
              "      <td>120</td>\n",
              "      <td>1</td>\n",
              "      <td>0</td>\n",
              "      <td>0</td>\n",
              "      <td>6</td>\n",
              "      <td>15606498</td>\n",
              "      <td>8</td>\n",
              "      <td>-1.616772</td>\n",
              "      <td>0.279656</td>\n",
              "      <td>0.0</td>\n",
              "    </tr>\n",
              "    <tr>\n",
              "      <th>896</th>\n",
              "      <td>2019-06-16 02:00:00</td>\n",
              "      <td>120</td>\n",
              "      <td>2</td>\n",
              "      <td>1</td>\n",
              "      <td>0</td>\n",
              "      <td>6</td>\n",
              "      <td>15606504</td>\n",
              "      <td>14</td>\n",
              "      <td>-1.616772</td>\n",
              "      <td>0.279656</td>\n",
              "      <td>0.0</td>\n",
              "    </tr>\n",
              "    <tr>\n",
              "      <th>897</th>\n",
              "      <td>2019-06-16 02:10:00</td>\n",
              "      <td>120</td>\n",
              "      <td>2</td>\n",
              "      <td>1</td>\n",
              "      <td>0</td>\n",
              "      <td>6</td>\n",
              "      <td>15606510</td>\n",
              "      <td>14</td>\n",
              "      <td>-1.616772</td>\n",
              "      <td>0.279656</td>\n",
              "      <td>0.0</td>\n",
              "    </tr>\n",
              "    <tr>\n",
              "      <th>898</th>\n",
              "      <td>2019-06-16 02:20:00</td>\n",
              "      <td>120</td>\n",
              "      <td>2</td>\n",
              "      <td>1</td>\n",
              "      <td>0</td>\n",
              "      <td>6</td>\n",
              "      <td>15606516</td>\n",
              "      <td>14</td>\n",
              "      <td>-0.128855</td>\n",
              "      <td>0.778076</td>\n",
              "      <td>0.0</td>\n",
              "    </tr>\n",
              "    <tr>\n",
              "      <th>899</th>\n",
              "      <td>2019-06-16 02:30:00</td>\n",
              "      <td>120</td>\n",
              "      <td>2</td>\n",
              "      <td>0</td>\n",
              "      <td>0</td>\n",
              "      <td>6</td>\n",
              "      <td>15606522</td>\n",
              "      <td>8</td>\n",
              "      <td>-0.128855</td>\n",
              "      <td>0.778076</td>\n",
              "      <td>0.0</td>\n",
              "    </tr>\n",
              "    <tr>\n",
              "      <th>900</th>\n",
              "      <td>2019-06-16 02:40:00</td>\n",
              "      <td>120</td>\n",
              "      <td>2</td>\n",
              "      <td>0</td>\n",
              "      <td>0</td>\n",
              "      <td>6</td>\n",
              "      <td>15606528</td>\n",
              "      <td>8</td>\n",
              "      <td>-0.128855</td>\n",
              "      <td>0.778076</td>\n",
              "      <td>0.0</td>\n",
              "    </tr>\n",
              "    <tr>\n",
              "      <th>901</th>\n",
              "      <td>2019-06-16 02:50:00</td>\n",
              "      <td>120</td>\n",
              "      <td>2</td>\n",
              "      <td>0</td>\n",
              "      <td>0</td>\n",
              "      <td>6</td>\n",
              "      <td>15606534</td>\n",
              "      <td>8</td>\n",
              "      <td>-1.525523</td>\n",
              "      <td>0.213303</td>\n",
              "      <td>0.0</td>\n",
              "    </tr>\n",
              "    <tr>\n",
              "      <th>902</th>\n",
              "      <td>2019-06-16 03:00:00</td>\n",
              "      <td>120</td>\n",
              "      <td>3</td>\n",
              "      <td>1</td>\n",
              "      <td>0</td>\n",
              "      <td>6</td>\n",
              "      <td>15606540</td>\n",
              "      <td>14</td>\n",
              "      <td>-1.525523</td>\n",
              "      <td>0.213303</td>\n",
              "      <td>0.0</td>\n",
              "    </tr>\n",
              "    <tr>\n",
              "      <th>903</th>\n",
              "      <td>2019-06-16 03:10:00</td>\n",
              "      <td>120</td>\n",
              "      <td>3</td>\n",
              "      <td>1</td>\n",
              "      <td>0</td>\n",
              "      <td>6</td>\n",
              "      <td>15606546</td>\n",
              "      <td>14</td>\n",
              "      <td>-1.525523</td>\n",
              "      <td>0.213303</td>\n",
              "      <td>0.0</td>\n",
              "    </tr>\n",
              "    <tr>\n",
              "      <th>904</th>\n",
              "      <td>2019-06-16 03:20:00</td>\n",
              "      <td>120</td>\n",
              "      <td>3</td>\n",
              "      <td>1</td>\n",
              "      <td>0</td>\n",
              "      <td>6</td>\n",
              "      <td>15606552</td>\n",
              "      <td>14</td>\n",
              "      <td>-0.037607</td>\n",
              "      <td>0.711723</td>\n",
              "      <td>0.0</td>\n",
              "    </tr>\n",
              "    <tr>\n",
              "      <th>905</th>\n",
              "      <td>2019-06-16 03:30:00</td>\n",
              "      <td>120</td>\n",
              "      <td>3</td>\n",
              "      <td>0</td>\n",
              "      <td>0</td>\n",
              "      <td>6</td>\n",
              "      <td>15606558</td>\n",
              "      <td>8</td>\n",
              "      <td>-0.037607</td>\n",
              "      <td>0.711723</td>\n",
              "      <td>0.0</td>\n",
              "    </tr>\n",
              "    <tr>\n",
              "      <th>906</th>\n",
              "      <td>2019-06-16 03:40:00</td>\n",
              "      <td>120</td>\n",
              "      <td>3</td>\n",
              "      <td>0</td>\n",
              "      <td>0</td>\n",
              "      <td>6</td>\n",
              "      <td>15606564</td>\n",
              "      <td>8</td>\n",
              "      <td>-0.037607</td>\n",
              "      <td>0.711723</td>\n",
              "      <td>0.0</td>\n",
              "    </tr>\n",
              "    <tr>\n",
              "      <th>907</th>\n",
              "      <td>2019-06-16 03:50:00</td>\n",
              "      <td>120</td>\n",
              "      <td>3</td>\n",
              "      <td>0</td>\n",
              "      <td>0</td>\n",
              "      <td>6</td>\n",
              "      <td>15606570</td>\n",
              "      <td>8</td>\n",
              "      <td>-1.434274</td>\n",
              "      <td>0.146950</td>\n",
              "      <td>0.0</td>\n",
              "    </tr>\n",
              "    <tr>\n",
              "      <th>908</th>\n",
              "      <td>2019-06-16 04:00:00</td>\n",
              "      <td>120</td>\n",
              "      <td>4</td>\n",
              "      <td>1</td>\n",
              "      <td>0</td>\n",
              "      <td>6</td>\n",
              "      <td>15606576</td>\n",
              "      <td>4</td>\n",
              "      <td>-1.434274</td>\n",
              "      <td>0.146950</td>\n",
              "      <td>0.0</td>\n",
              "    </tr>\n",
              "    <tr>\n",
              "      <th>909</th>\n",
              "      <td>2019-06-16 04:10:00</td>\n",
              "      <td>120</td>\n",
              "      <td>4</td>\n",
              "      <td>1</td>\n",
              "      <td>0</td>\n",
              "      <td>6</td>\n",
              "      <td>15606582</td>\n",
              "      <td>4</td>\n",
              "      <td>-1.434274</td>\n",
              "      <td>0.146950</td>\n",
              "      <td>0.0</td>\n",
              "    </tr>\n",
              "    <tr>\n",
              "      <th>910</th>\n",
              "      <td>2019-06-16 04:20:00</td>\n",
              "      <td>120</td>\n",
              "      <td>4</td>\n",
              "      <td>1</td>\n",
              "      <td>0</td>\n",
              "      <td>6</td>\n",
              "      <td>15606588</td>\n",
              "      <td>4</td>\n",
              "      <td>0.053642</td>\n",
              "      <td>0.645370</td>\n",
              "      <td>0.0</td>\n",
              "    </tr>\n",
              "    <tr>\n",
              "      <th>911</th>\n",
              "      <td>2019-06-16 04:30:00</td>\n",
              "      <td>120</td>\n",
              "      <td>4</td>\n",
              "      <td>0</td>\n",
              "      <td>0</td>\n",
              "      <td>6</td>\n",
              "      <td>15606594</td>\n",
              "      <td>8</td>\n",
              "      <td>0.053642</td>\n",
              "      <td>0.645370</td>\n",
              "      <td>0.0</td>\n",
              "    </tr>\n",
              "    <tr>\n",
              "      <th>912</th>\n",
              "      <td>2019-06-16 04:40:00</td>\n",
              "      <td>120</td>\n",
              "      <td>4</td>\n",
              "      <td>0</td>\n",
              "      <td>0</td>\n",
              "      <td>6</td>\n",
              "      <td>15606600</td>\n",
              "      <td>8</td>\n",
              "      <td>0.053642</td>\n",
              "      <td>0.645370</td>\n",
              "      <td>0.0</td>\n",
              "    </tr>\n",
              "    <tr>\n",
              "      <th>913</th>\n",
              "      <td>2019-06-16 04:50:00</td>\n",
              "      <td>120</td>\n",
              "      <td>4</td>\n",
              "      <td>0</td>\n",
              "      <td>0</td>\n",
              "      <td>6</td>\n",
              "      <td>15606606</td>\n",
              "      <td>8</td>\n",
              "      <td>-1.343026</td>\n",
              "      <td>0.080597</td>\n",
              "      <td>0.0</td>\n",
              "    </tr>\n",
              "    <tr>\n",
              "      <th>914</th>\n",
              "      <td>2019-06-16 05:00:00</td>\n",
              "      <td>120</td>\n",
              "      <td>5</td>\n",
              "      <td>1</td>\n",
              "      <td>0</td>\n",
              "      <td>6</td>\n",
              "      <td>15606612</td>\n",
              "      <td>4</td>\n",
              "      <td>-1.343026</td>\n",
              "      <td>0.080597</td>\n",
              "      <td>0.0</td>\n",
              "    </tr>\n",
              "    <tr>\n",
              "      <th>915</th>\n",
              "      <td>2019-06-16 05:10:00</td>\n",
              "      <td>120</td>\n",
              "      <td>5</td>\n",
              "      <td>1</td>\n",
              "      <td>0</td>\n",
              "      <td>6</td>\n",
              "      <td>15606618</td>\n",
              "      <td>4</td>\n",
              "      <td>-1.343026</td>\n",
              "      <td>0.080597</td>\n",
              "      <td>0.0</td>\n",
              "    </tr>\n",
              "    <tr>\n",
              "      <th>916</th>\n",
              "      <td>2019-06-16 05:20:00</td>\n",
              "      <td>120</td>\n",
              "      <td>5</td>\n",
              "      <td>1</td>\n",
              "      <td>0</td>\n",
              "      <td>6</td>\n",
              "      <td>15606624</td>\n",
              "      <td>4</td>\n",
              "      <td>0.144891</td>\n",
              "      <td>0.579017</td>\n",
              "      <td>0.0</td>\n",
              "    </tr>\n",
              "    <tr>\n",
              "      <th>917</th>\n",
              "      <td>2019-06-16 05:30:00</td>\n",
              "      <td>120</td>\n",
              "      <td>5</td>\n",
              "      <td>0</td>\n",
              "      <td>0</td>\n",
              "      <td>6</td>\n",
              "      <td>15606630</td>\n",
              "      <td>8</td>\n",
              "      <td>-0.110187</td>\n",
              "      <td>-0.920237</td>\n",
              "      <td>0.0</td>\n",
              "    </tr>\n",
              "    <tr>\n",
              "      <th>918</th>\n",
              "      <td>2019-06-16 05:40:00</td>\n",
              "      <td>95</td>\n",
              "      <td>5</td>\n",
              "      <td>0</td>\n",
              "      <td>0</td>\n",
              "      <td>6</td>\n",
              "      <td>15606636</td>\n",
              "      <td>10</td>\n",
              "      <td>NaN</td>\n",
              "      <td>NaN</td>\n",
              "      <td>NaN</td>\n",
              "    </tr>\n",
              "  </tbody>\n",
              "</table>\n",
              "<p>918 rows × 11 columns</p>\n",
              "</div>"
            ],
            "text/plain": [
              "             date_trunc  count  ...  principal_feature2  anomaly21\n",
              "0   2019-06-09 20:40:00     36  ...           -5.453772        0.0\n",
              "1   2019-06-09 20:50:00    120  ...           -0.416281        0.0\n",
              "2   2019-06-09 21:00:00    120  ...           -0.981054        0.0\n",
              "3   2019-06-09 21:10:00    120  ...           -0.981054        0.0\n",
              "4   2019-06-09 21:20:00    120  ...           -0.981054        0.0\n",
              "5   2019-06-09 21:30:00    120  ...           -0.482634        0.0\n",
              "6   2019-06-09 21:40:00    120  ...           -0.482634        0.0\n",
              "7   2019-06-09 21:50:00    120  ...           -0.482634        0.0\n",
              "8   2019-06-09 22:00:00    120  ...           -1.047407        0.0\n",
              "9   2019-06-09 22:10:00    120  ...           -1.047407        0.0\n",
              "10  2019-06-09 22:20:00    120  ...           -1.047407        0.0\n",
              "11  2019-06-09 22:30:00    120  ...           -0.548987        0.0\n",
              "12  2019-06-09 22:40:00    120  ...           -0.548987        0.0\n",
              "13  2019-06-09 22:50:00    120  ...           -0.548987        0.0\n",
              "14  2019-06-09 23:00:00    120  ...           -1.113760        0.0\n",
              "15  2019-06-09 23:10:00    120  ...           -1.113760        0.0\n",
              "16  2019-06-09 23:20:00    120  ...           -1.113760        0.0\n",
              "17  2019-06-09 23:30:00    120  ...           -0.615340        0.0\n",
              "18  2019-06-09 23:40:00    120  ...           -0.615340        0.0\n",
              "19  2019-06-09 23:50:00    120  ...           -0.615340        0.0\n",
              "20  2019-06-10 00:00:00    120  ...            0.412363        0.0\n",
              "21  2019-06-10 00:10:00    120  ...            0.412363        0.0\n",
              "22  2019-06-10 00:20:00    120  ...            0.412363        0.0\n",
              "23  2019-06-10 00:30:00    120  ...            0.910782        0.0\n",
              "24  2019-06-10 00:40:00    120  ...            0.910782        0.0\n",
              "25  2019-06-10 00:50:00    120  ...            0.910782        0.0\n",
              "26  2019-06-10 01:00:00    120  ...            0.346009        0.0\n",
              "27  2019-06-10 01:10:00    120  ...            0.346009        0.0\n",
              "28  2019-06-10 01:20:00    120  ...            0.346009        0.0\n",
              "29  2019-06-10 01:30:00    120  ...            0.844429        0.0\n",
              "..                  ...    ...  ...                 ...        ...\n",
              "889 2019-06-16 00:50:00    120  ...            0.346009        0.0\n",
              "890 2019-06-16 01:00:00    120  ...            0.346009        0.0\n",
              "891 2019-06-16 01:10:00    120  ...            0.346009        0.0\n",
              "892 2019-06-16 01:20:00    120  ...            0.844429        0.0\n",
              "893 2019-06-16 01:30:00    120  ...            0.844429        0.0\n",
              "894 2019-06-16 01:40:00    120  ...            0.844429        0.0\n",
              "895 2019-06-16 01:50:00    120  ...            0.279656        0.0\n",
              "896 2019-06-16 02:00:00    120  ...            0.279656        0.0\n",
              "897 2019-06-16 02:10:00    120  ...            0.279656        0.0\n",
              "898 2019-06-16 02:20:00    120  ...            0.778076        0.0\n",
              "899 2019-06-16 02:30:00    120  ...            0.778076        0.0\n",
              "900 2019-06-16 02:40:00    120  ...            0.778076        0.0\n",
              "901 2019-06-16 02:50:00    120  ...            0.213303        0.0\n",
              "902 2019-06-16 03:00:00    120  ...            0.213303        0.0\n",
              "903 2019-06-16 03:10:00    120  ...            0.213303        0.0\n",
              "904 2019-06-16 03:20:00    120  ...            0.711723        0.0\n",
              "905 2019-06-16 03:30:00    120  ...            0.711723        0.0\n",
              "906 2019-06-16 03:40:00    120  ...            0.711723        0.0\n",
              "907 2019-06-16 03:50:00    120  ...            0.146950        0.0\n",
              "908 2019-06-16 04:00:00    120  ...            0.146950        0.0\n",
              "909 2019-06-16 04:10:00    120  ...            0.146950        0.0\n",
              "910 2019-06-16 04:20:00    120  ...            0.645370        0.0\n",
              "911 2019-06-16 04:30:00    120  ...            0.645370        0.0\n",
              "912 2019-06-16 04:40:00    120  ...            0.645370        0.0\n",
              "913 2019-06-16 04:50:00    120  ...            0.080597        0.0\n",
              "914 2019-06-16 05:00:00    120  ...            0.080597        0.0\n",
              "915 2019-06-16 05:10:00    120  ...            0.080597        0.0\n",
              "916 2019-06-16 05:20:00    120  ...            0.579017        0.0\n",
              "917 2019-06-16 05:30:00    120  ...           -0.920237        0.0\n",
              "918 2019-06-16 05:40:00     95  ...                 NaN        NaN\n",
              "\n",
              "[918 rows x 11 columns]"
            ]
          },
          "metadata": {
            "tags": []
          },
          "execution_count": 41
        }
      ]
    },
    {
      "cell_type": "code",
      "metadata": {
        "id": "tR7tXsmq-KSR",
        "colab_type": "code",
        "colab": {}
      },
      "source": [
        "df = df.dropna()"
      ],
      "execution_count": 0,
      "outputs": []
    },
    {
      "cell_type": "code",
      "metadata": {
        "id": "akePwdOm-KST",
        "colab_type": "code",
        "outputId": "fcfc2ecd-0b63-426b-de99-04a984a3b2c3",
        "colab": {
          "base_uri": "https://localhost:8080/",
          "height": 515
        }
      },
      "source": [
        "# visualisation of anomaly with cluster view\n",
        "fig, ax = plt.subplots()\n",
        "colors = {0:'blue', 1:'red'}\n",
        "ax.scatter(df['principal_feature1'], df['principal_feature2'], c=df[\"anomaly21\"].apply(lambda x: colors[x]))\n",
        "plt.show()"
      ],
      "execution_count": 0,
      "outputs": [
        {
          "output_type": "display_data",
          "data": {
            "image/png": "[encoded data removed]",
            "text/plain": [
              "<Figure size 1080x576 with 1 Axes>"
            ]
          },
          "metadata": {
            "tags": []
          }
        }
      ]
    },
    {
      "cell_type": "code",
      "metadata": {
        "id": "hZuNXexM-KSV",
        "colab_type": "code",
        "outputId": "b676ed96-2ca6-44e1-e4e8-1869ef269138",
        "colab": {
          "base_uri": "https://localhost:8080/",
          "height": 537
        }
      },
      "source": [
        "fig, ax = plt.subplots()\n",
        "\n",
        "a = df.loc[df['anomaly21'] == 1, ['time_epoch', 'count']] #anomaly\n",
        "# b = df.loc[df['count'] >30000, ['time_epoch', 'count']] #missed\n",
        "\n",
        "ax.plot(df['time_epoch'], df['count'], color='blue')\n",
        "ax.scatter(a['time_epoch'],a['count'], color='red', s=100)\n",
        "# ax.scatter(b['time_epoch'],b['count'], color='red', s=100)\n",
        "plt.show()"
      ],
      "execution_count": 0,
      "outputs": [
        {
          "output_type": "display_data",
          "data": {
            "image/png": "[encoded data removed]",
            "text/plain": [
              "<Figure size 1080x576 with 1 Axes>"
            ]
          },
          "metadata": {
            "tags": []
          }
        }
      ]
    },
    {
      "cell_type": "code",
      "metadata": {
        "id": "j1P1j6iR-KSX",
        "colab_type": "code",
        "outputId": "08e2ca93-1c20-4eb6-eb12-afdb61b50243",
        "colab": {
          "base_uri": "https://localhost:8080/",
          "height": 515
        }
      },
      "source": [
        "a = df.loc[df['anomaly21'] == 0, 'count']\n",
        "b = df.loc[df['anomaly21'] == 1, 'count']\n",
        "\n",
        "fig, axs = plt.subplots()\n",
        "axs.hist([a,b], bins=32, stacked=True, color=['blue', 'red'], label=['normal', 'anomaly'])\n",
        "plt.legend()\n",
        "plt.show()\n"
      ],
      "execution_count": 0,
      "outputs": [
        {
          "output_type": "display_data",
          "data": {
            "image/png": "[encoded data removed]",
            "text/plain": [
              "<Figure size 1080x576 with 1 Axes>"
            ]
          },
          "metadata": {
            "tags": []
          }
        }
      ]
    },
    {
      "cell_type": "markdown",
      "metadata": {
        "id": "nLZxuiVn-KSa",
        "colab_type": "text"
      },
      "source": [
        "## Isolated forests"
      ]
    },
    {
      "cell_type": "code",
      "metadata": {
        "id": "tTrEqXMt-KSb",
        "colab_type": "code",
        "colab": {}
      },
      "source": [
        "outliers_fraction = 0.005"
      ],
      "execution_count": 0,
      "outputs": []
    },
    {
      "cell_type": "code",
      "metadata": {
        "id": "Dz1yiOdw-KSc",
        "colab_type": "code",
        "outputId": "e19daf1a-9a77-4b94-f1bf-08f5d4e7cee4",
        "colab": {
          "base_uri": "https://localhost:8080/",
          "height": 384
        }
      },
      "source": [
        "# Take useful feature and standardize them \n",
        "data = df[['count', 'hours', 'daylight']] # 'DayOfTheWeek', 'WeekDay'\n",
        "# data = df[['principal_feature1', 'principal_feature2']]\n",
        "min_max_scaler = preprocessing.StandardScaler()\n",
        "np_scaled = min_max_scaler.fit_transform(data)\n",
        "data = pd.DataFrame(np_scaled)\n",
        "# train isolation forest \n",
        "model =  IsolationForest(contamination = outliers_fraction)\n",
        "model.fit(data)\n",
        "# add the data to the main  \n",
        "df['anomaly25'] = pd.Series(model.predict(data))\n",
        "df['anomaly25'] = df['anomaly25'].map( {1: 0, -1: 1} )\n",
        "print(df['anomaly25'].value_counts())"
      ],
      "execution_count": 0,
      "outputs": [
        {
          "output_type": "stream",
          "text": [
            "/usr/local/lib/python3.6/dist-packages/sklearn/ensemble/iforest.py:247: FutureWarning: behaviour=\"old\" is deprecated and will be removed in version 0.22. Please use behaviour=\"new\", which makes the decision_function change to match other anomaly detection algorithm API.\n",
            "  FutureWarning)\n",
            "/usr/local/lib/python3.6/dist-packages/sklearn/ensemble/iforest.py:415: DeprecationWarning: threshold_ attribute is deprecated in 0.20 and will be removed in 0.22.\n",
            "  \" be removed in 0.22.\", DeprecationWarning)\n"
          ],
          "name": "stderr"
        },
        {
          "output_type": "stream",
          "text": [
            "0.0    911\n",
            "1.0      5\n",
            "Name: anomaly25, dtype: int64\n"
          ],
          "name": "stdout"
        },
        {
          "output_type": "stream",
          "text": [
            "/usr/local/lib/python3.6/dist-packages/ipykernel_launcher.py:10: SettingWithCopyWarning: \n",
            "A value is trying to be set on a copy of a slice from a DataFrame.\n",
            "Try using .loc[row_indexer,col_indexer] = value instead\n",
            "\n",
            "See the caveats in the documentation: http://pandas.pydata.org/pandas-docs/stable/indexing.html#indexing-view-versus-copy\n",
            "  # Remove the CWD from sys.path while we load stuff.\n",
            "/usr/local/lib/python3.6/dist-packages/ipykernel_launcher.py:11: SettingWithCopyWarning: \n",
            "A value is trying to be set on a copy of a slice from a DataFrame.\n",
            "Try using .loc[row_indexer,col_indexer] = value instead\n",
            "\n",
            "See the caveats in the documentation: http://pandas.pydata.org/pandas-docs/stable/indexing.html#indexing-view-versus-copy\n",
            "  # This is added back by InteractiveShellApp.init_path()\n"
          ],
          "name": "stderr"
        }
      ]
    },
    {
      "cell_type": "code",
      "metadata": {
        "id": "WulDXSG--KSe",
        "colab_type": "code",
        "outputId": "da3a0fe7-899f-4e4e-e8a0-27a73a81e5c0",
        "colab": {
          "base_uri": "https://localhost:8080/",
          "height": 532
        }
      },
      "source": [
        "# visualisation of anomaly throughout time (viz 1)\n",
        "fig, ax = plt.subplots()\n",
        "\n",
        "a = df.loc[df['anomaly25'] == 1, ['time_epoch', 'count']] #anomaly\n",
        "b = df.loc[df['anomaly21']==1, ['time_epoch', 'count']]\n",
        "\n",
        "ax.plot(df['time_epoch'], df['count'], color='blue')\n",
        "ax.scatter(b['time_epoch'],b['count'], color='green', s=500)\n",
        "ax.scatter(a['time_epoch'],a['count'], color='red', s=100)\n",
        "\n",
        "plt.show()"
      ],
      "execution_count": 0,
      "outputs": [
        {
          "output_type": "display_data",
          "data": {
            "image/png": "[encoded data removed]",
            "text/plain": [
              "<Figure size 1080x576 with 1 Axes>"
            ]
          },
          "metadata": {
            "tags": []
          }
        }
      ]
    },
    {
      "cell_type": "code",
      "metadata": {
        "id": "4MIWvlrTWh94",
        "colab_type": "code",
        "outputId": "650d4d1d-b907-4839-b8a6-6c4d100a5b97",
        "colab": {
          "base_uri": "https://localhost:8080/",
          "height": 515
        }
      },
      "source": [
        "# visualisation of anomaly with cluster view\n",
        "fig, ax = plt.subplots()\n",
        "colors = {0:'blue', 1:'red'}\n",
        "ax.scatter(df['principal_feature1'], df['principal_feature2'], c=df[\"anomaly21\"].apply(lambda x: colors[x]))\n",
        "plt.show()"
      ],
      "execution_count": 0,
      "outputs": [
        {
          "output_type": "display_data",
          "data": {
            "image/png": "[encoded data removed]",
            "text/plain": [
              "<Figure size 1080x576 with 1 Axes>"
            ]
          },
          "metadata": {
            "tags": []
          }
        }
      ]
    },
    {
      "cell_type": "code",
      "metadata": {
        "id": "69EP1QBT-KSg",
        "colab_type": "code",
        "outputId": "7608f422-c807-46bb-f974-3a5961d7b22a",
        "colab": {
          "base_uri": "https://localhost:8080/",
          "height": 515
        }
      },
      "source": [
        "a = df.loc[df['anomaly25'] == 0, 'count']\n",
        "b = df.loc[df['anomaly25'] == 1, 'count']\n",
        "\n",
        "fig, axs = plt.subplots()\n",
        "axs.hist([a,b], bins=32, stacked=True, color=['blue', 'red'], label = ['normal', 'anomaly'])\n",
        "plt.legend()\n",
        "plt.show()"
      ],
      "execution_count": 0,
      "outputs": [
        {
          "output_type": "display_data",
          "data": {
            "image/png": "[encoded data removed]",
            "text/plain": [
              "<Figure size 1080x576 with 1 Axes>"
            ]
          },
          "metadata": {
            "tags": []
          }
        }
      ]
    },
    {
      "cell_type": "markdown",
      "metadata": {
        "id": "mk8L_DtU-KSi",
        "colab_type": "text"
      },
      "source": [
        "## SVM"
      ]
    },
    {
      "cell_type": "code",
      "metadata": {
        "id": "1sOLyGJj-KSj",
        "colab_type": "code",
        "colab": {}
      },
      "source": [
        "# Take useful feature and standardize them \n",
        "data = df[['count', 'hours', 'daylight', 'DayOfTheWeek']]\n",
        "min_max_scaler = preprocessing.StandardScaler()\n",
        "np_scaled = min_max_scaler.fit_transform(data)"
      ],
      "execution_count": 0,
      "outputs": []
    },
    {
      "cell_type": "code",
      "metadata": {
        "id": "SJ5FwMTi-KSm",
        "colab_type": "code",
        "outputId": "f176ba9f-c595-46ca-df22-e047caa28c40",
        "colab": {
          "base_uri": "https://localhost:8080/",
          "height": 291
        }
      },
      "source": [
        "# train one class SVM \n",
        "model =  OneClassSVM(nu=0.95 * outliers_fraction) #nu=0.95 * outliers_fraction  + 0.05\n",
        "data = pd.DataFrame(np_scaled)\n",
        "model.fit(data)\n",
        "# add the data to the main  \n",
        "df['anomaly26'] = pd.Series(model.predict(data))\n",
        "df['anomaly26'] = df['anomaly26'].map( {1: 0, -1: 1} )\n",
        "print(df['anomaly26'].value_counts())"
      ],
      "execution_count": 0,
      "outputs": [
        {
          "output_type": "stream",
          "text": [
            "0.0    877\n",
            "1.0     39\n",
            "Name: anomaly26, dtype: int64\n"
          ],
          "name": "stdout"
        },
        {
          "output_type": "stream",
          "text": [
            "/usr/local/lib/python3.6/dist-packages/ipykernel_launcher.py:5: SettingWithCopyWarning: \n",
            "A value is trying to be set on a copy of a slice from a DataFrame.\n",
            "Try using .loc[row_indexer,col_indexer] = value instead\n",
            "\n",
            "See the caveats in the documentation: http://pandas.pydata.org/pandas-docs/stable/indexing.html#indexing-view-versus-copy\n",
            "  \"\"\"\n",
            "/usr/local/lib/python3.6/dist-packages/ipykernel_launcher.py:6: SettingWithCopyWarning: \n",
            "A value is trying to be set on a copy of a slice from a DataFrame.\n",
            "Try using .loc[row_indexer,col_indexer] = value instead\n",
            "\n",
            "See the caveats in the documentation: http://pandas.pydata.org/pandas-docs/stable/indexing.html#indexing-view-versus-copy\n",
            "  \n"
          ],
          "name": "stderr"
        }
      ]
    },
    {
      "cell_type": "code",
      "metadata": {
        "id": "oyEs9Nk7-KSp",
        "colab_type": "code",
        "outputId": "0588f6fd-f433-4308-c402-9bdf4225cc4d",
        "colab": {
          "base_uri": "https://localhost:8080/",
          "height": 532
        }
      },
      "source": [
        "# visualisation of anomaly throughout time (viz 1)\n",
        "fig, ax = plt.subplots()\n",
        "\n",
        "a = df.loc[df['anomaly26'] == 1, ['time_epoch', 'count']] #anomaly\n",
        "\n",
        "ax.plot(df['time_epoch'], df['count'], color='blue')\n",
        "ax.scatter(a['time_epoch'],a['count'], color='red', s=100)\n",
        "plt.show()"
      ],
      "execution_count": 0,
      "outputs": [
        {
          "output_type": "display_data",
          "data": {
            "image/png": "[encoded data removed]",
            "text/plain": [
              "<Figure size 1080x576 with 1 Axes>"
            ]
          },
          "metadata": {
            "tags": []
          }
        }
      ]
    },
    {
      "cell_type": "code",
      "metadata": {
        "id": "3k6pb1BCs48c",
        "colab_type": "code",
        "outputId": "013f06a8-e18a-4660-a1f3-266f25c1a474",
        "colab": {
          "base_uri": "https://localhost:8080/",
          "height": 901
        }
      },
      "source": [
        "# visualisation of anomaly with cluster view\n",
        "fig, ax = plt.subplots()\n",
        "colors = {0:'blue', 1:'red'}\n",
        "ax.scatter(df['principal_feature1'], df['principal_feature2'], c=df[\"anomaly26\"].apply(lambda x: colors[x]))\n",
        "plt.show()"
      ],
      "execution_count": 0,
      "outputs": [
        {
          "output_type": "error",
          "ename": "KeyError",
          "evalue": "ignored",
          "traceback": [
            "\u001b[0;31m---------------------------------------------------------------------------\u001b[0m",
            "\u001b[0;31mKeyError\u001b[0m                                  Traceback (most recent call last)",
            "\u001b[0;32m<ipython-input-79-f4947e21d0ef>\u001b[0m in \u001b[0;36m<module>\u001b[0;34m()\u001b[0m\n\u001b[1;32m      1\u001b[0m \u001b[0mfig\u001b[0m\u001b[0;34m,\u001b[0m \u001b[0max\u001b[0m \u001b[0;34m=\u001b[0m \u001b[0mplt\u001b[0m\u001b[0;34m.\u001b[0m\u001b[0msubplots\u001b[0m\u001b[0;34m(\u001b[0m\u001b[0;34m)\u001b[0m\u001b[0;34m\u001b[0m\u001b[0;34m\u001b[0m\u001b[0m\n\u001b[1;32m      2\u001b[0m \u001b[0mcolors\u001b[0m \u001b[0;34m=\u001b[0m \u001b[0;34m{\u001b[0m\u001b[0;36m0\u001b[0m\u001b[0;34m:\u001b[0m\u001b[0;34m'blue'\u001b[0m\u001b[0;34m,\u001b[0m \u001b[0;36m1\u001b[0m\u001b[0;34m:\u001b[0m\u001b[0;34m'red'\u001b[0m\u001b[0;34m}\u001b[0m\u001b[0;34m\u001b[0m\u001b[0;34m\u001b[0m\u001b[0m\n\u001b[0;32m----> 3\u001b[0;31m \u001b[0max\u001b[0m\u001b[0;34m.\u001b[0m\u001b[0mscatter\u001b[0m\u001b[0;34m(\u001b[0m\u001b[0mdf\u001b[0m\u001b[0;34m[\u001b[0m\u001b[0;34m'principal_feature1'\u001b[0m\u001b[0;34m]\u001b[0m\u001b[0;34m,\u001b[0m \u001b[0mdf\u001b[0m\u001b[0;34m[\u001b[0m\u001b[0;34m'principal_feature2'\u001b[0m\u001b[0;34m]\u001b[0m\u001b[0;34m,\u001b[0m \u001b[0mc\u001b[0m\u001b[0;34m=\u001b[0m\u001b[0mdf\u001b[0m\u001b[0;34m[\u001b[0m\u001b[0;34m\"anomaly26\"\u001b[0m\u001b[0;34m]\u001b[0m\u001b[0;34m.\u001b[0m\u001b[0mapply\u001b[0m\u001b[0;34m(\u001b[0m\u001b[0;32mlambda\u001b[0m \u001b[0mx\u001b[0m\u001b[0;34m:\u001b[0m \u001b[0mcolors\u001b[0m\u001b[0;34m[\u001b[0m\u001b[0mx\u001b[0m\u001b[0;34m]\u001b[0m\u001b[0;34m)\u001b[0m\u001b[0;34m)\u001b[0m\u001b[0;34m\u001b[0m\u001b[0;34m\u001b[0m\u001b[0m\n\u001b[0m\u001b[1;32m      4\u001b[0m \u001b[0mplt\u001b[0m\u001b[0;34m.\u001b[0m\u001b[0mshow\u001b[0m\u001b[0;34m(\u001b[0m\u001b[0;34m)\u001b[0m\u001b[0;34m\u001b[0m\u001b[0;34m\u001b[0m\u001b[0m\n",
            "\u001b[0;32m/usr/local/lib/python3.6/dist-packages/pandas/core/series.py\u001b[0m in \u001b[0;36mapply\u001b[0;34m(self, func, convert_dtype, args, **kwds)\u001b[0m\n\u001b[1;32m   3589\u001b[0m             \u001b[0;32melse\u001b[0m\u001b[0;34m:\u001b[0m\u001b[0;34m\u001b[0m\u001b[0;34m\u001b[0m\u001b[0m\n\u001b[1;32m   3590\u001b[0m                 \u001b[0mvalues\u001b[0m \u001b[0;34m=\u001b[0m \u001b[0mself\u001b[0m\u001b[0;34m.\u001b[0m\u001b[0mastype\u001b[0m\u001b[0;34m(\u001b[0m\u001b[0mobject\u001b[0m\u001b[0;34m)\u001b[0m\u001b[0;34m.\u001b[0m\u001b[0mvalues\u001b[0m\u001b[0;34m\u001b[0m\u001b[0;34m\u001b[0m\u001b[0m\n\u001b[0;32m-> 3591\u001b[0;31m                 \u001b[0mmapped\u001b[0m \u001b[0;34m=\u001b[0m \u001b[0mlib\u001b[0m\u001b[0;34m.\u001b[0m\u001b[0mmap_infer\u001b[0m\u001b[0;34m(\u001b[0m\u001b[0mvalues\u001b[0m\u001b[0;34m,\u001b[0m \u001b[0mf\u001b[0m\u001b[0;34m,\u001b[0m \u001b[0mconvert\u001b[0m\u001b[0;34m=\u001b[0m\u001b[0mconvert_dtype\u001b[0m\u001b[0;34m)\u001b[0m\u001b[0;34m\u001b[0m\u001b[0;34m\u001b[0m\u001b[0m\n\u001b[0m\u001b[1;32m   3592\u001b[0m \u001b[0;34m\u001b[0m\u001b[0m\n\u001b[1;32m   3593\u001b[0m         \u001b[0;32mif\u001b[0m \u001b[0mlen\u001b[0m\u001b[0;34m(\u001b[0m\u001b[0mmapped\u001b[0m\u001b[0;34m)\u001b[0m \u001b[0;32mand\u001b[0m \u001b[0misinstance\u001b[0m\u001b[0;34m(\u001b[0m\u001b[0mmapped\u001b[0m\u001b[0;34m[\u001b[0m\u001b[0;36m0\u001b[0m\u001b[0;34m]\u001b[0m\u001b[0;34m,\u001b[0m \u001b[0mSeries\u001b[0m\u001b[0;34m)\u001b[0m\u001b[0;34m:\u001b[0m\u001b[0;34m\u001b[0m\u001b[0;34m\u001b[0m\u001b[0m\n",
            "\u001b[0;32mpandas/_libs/lib.pyx\u001b[0m in \u001b[0;36mpandas._libs.lib.map_infer\u001b[0;34m()\u001b[0m\n",
            "\u001b[0;32m<ipython-input-79-f4947e21d0ef>\u001b[0m in \u001b[0;36m<lambda>\u001b[0;34m(x)\u001b[0m\n\u001b[1;32m      1\u001b[0m \u001b[0mfig\u001b[0m\u001b[0;34m,\u001b[0m \u001b[0max\u001b[0m \u001b[0;34m=\u001b[0m \u001b[0mplt\u001b[0m\u001b[0;34m.\u001b[0m\u001b[0msubplots\u001b[0m\u001b[0;34m(\u001b[0m\u001b[0;34m)\u001b[0m\u001b[0;34m\u001b[0m\u001b[0;34m\u001b[0m\u001b[0m\n\u001b[1;32m      2\u001b[0m \u001b[0mcolors\u001b[0m \u001b[0;34m=\u001b[0m \u001b[0;34m{\u001b[0m\u001b[0;36m0\u001b[0m\u001b[0;34m:\u001b[0m\u001b[0;34m'blue'\u001b[0m\u001b[0;34m,\u001b[0m \u001b[0;36m1\u001b[0m\u001b[0;34m:\u001b[0m\u001b[0;34m'red'\u001b[0m\u001b[0;34m}\u001b[0m\u001b[0;34m\u001b[0m\u001b[0;34m\u001b[0m\u001b[0m\n\u001b[0;32m----> 3\u001b[0;31m \u001b[0max\u001b[0m\u001b[0;34m.\u001b[0m\u001b[0mscatter\u001b[0m\u001b[0;34m(\u001b[0m\u001b[0mdf\u001b[0m\u001b[0;34m[\u001b[0m\u001b[0;34m'principal_feature1'\u001b[0m\u001b[0;34m]\u001b[0m\u001b[0;34m,\u001b[0m \u001b[0mdf\u001b[0m\u001b[0;34m[\u001b[0m\u001b[0;34m'principal_feature2'\u001b[0m\u001b[0;34m]\u001b[0m\u001b[0;34m,\u001b[0m \u001b[0mc\u001b[0m\u001b[0;34m=\u001b[0m\u001b[0mdf\u001b[0m\u001b[0;34m[\u001b[0m\u001b[0;34m\"anomaly26\"\u001b[0m\u001b[0;34m]\u001b[0m\u001b[0;34m.\u001b[0m\u001b[0mapply\u001b[0m\u001b[0;34m(\u001b[0m\u001b[0;32mlambda\u001b[0m \u001b[0mx\u001b[0m\u001b[0;34m:\u001b[0m \u001b[0mcolors\u001b[0m\u001b[0;34m[\u001b[0m\u001b[0mx\u001b[0m\u001b[0;34m]\u001b[0m\u001b[0;34m)\u001b[0m\u001b[0;34m)\u001b[0m\u001b[0;34m\u001b[0m\u001b[0;34m\u001b[0m\u001b[0m\n\u001b[0m\u001b[1;32m      4\u001b[0m \u001b[0mplt\u001b[0m\u001b[0;34m.\u001b[0m\u001b[0mshow\u001b[0m\u001b[0;34m(\u001b[0m\u001b[0;34m)\u001b[0m\u001b[0;34m\u001b[0m\u001b[0;34m\u001b[0m\u001b[0m\n",
            "\u001b[0;31mKeyError\u001b[0m: nan"
          ]
        },
        {
          "output_type": "display_data",
          "data": {
            "image/png": "[encoded data removed]",
            "text/plain": [
              "<Figure size 1080x576 with 1 Axes>"
            ]
          },
          "metadata": {
            "tags": []
          }
        }
      ]
    },
    {
      "cell_type": "markdown",
      "metadata": {
        "id": "cfMRWa15-KSs",
        "colab_type": "text"
      },
      "source": [
        "## RNNs"
      ]
    },
    {
      "cell_type": "code",
      "metadata": {
        "id": "ENvsxtm6-KSs",
        "colab_type": "code",
        "colab": {}
      },
      "source": [
        "#select and standardize data\n",
        "data_n = df[['count', 'hours', 'minutes']]#'daylight', 'DayOfTheWeek', 'WeekDay'\n",
        "min_max_scaler = preprocessing.StandardScaler()\n",
        "np_scaled = min_max_scaler.fit_transform(data_n)\n",
        "data_n = pd.DataFrame(np_scaled)"
      ],
      "execution_count": 0,
      "outputs": []
    },
    {
      "cell_type": "code",
      "metadata": {
        "id": "uiNFuBEh-KSu",
        "colab_type": "code",
        "outputId": "7dc437b1-68be-4884-cced-241f87a60415",
        "colab": {
          "base_uri": "https://localhost:8080/",
          "height": 163
        }
      },
      "source": [
        "# important parameters and train/test size\n",
        "prediction_time = 1 \n",
        "testdatasize = 50\n",
        "unroll_length = 10\n",
        "testdatacut = testdatasize + unroll_length  + 1\n",
        "\n",
        "#train data\n",
        "x_train = data_n[0:-prediction_time-testdatacut].as_matrix()\n",
        "y_train = data_n[prediction_time:-testdatacut  ][0].as_matrix()\n",
        "\n",
        "# test data\n",
        "x_test = data_n[0-testdatacut:-prediction_time].as_matrix()\n",
        "y_test = data_n[prediction_time-testdatacut:  ][0].as_matrix()"
      ],
      "execution_count": 0,
      "outputs": [
        {
          "output_type": "stream",
          "text": [
            "/usr/local/lib/python3.6/dist-packages/ipykernel_launcher.py:7: FutureWarning: Method .as_matrix will be removed in a future version. Use .values instead.\n",
            "  import sys\n",
            "/usr/local/lib/python3.6/dist-packages/ipykernel_launcher.py:8: FutureWarning: Method .as_matrix will be removed in a future version. Use .values instead.\n",
            "  \n",
            "/usr/local/lib/python3.6/dist-packages/ipykernel_launcher.py:11: FutureWarning: Method .as_matrix will be removed in a future version. Use .values instead.\n",
            "  # This is added back by InteractiveShellApp.init_path()\n",
            "/usr/local/lib/python3.6/dist-packages/ipykernel_launcher.py:12: FutureWarning: Method .as_matrix will be removed in a future version. Use .values instead.\n",
            "  if sys.path[0] == '':\n"
          ],
          "name": "stderr"
        }
      ]
    },
    {
      "cell_type": "code",
      "metadata": {
        "id": "ND8JZpEu-KSw",
        "colab_type": "code",
        "colab": {}
      },
      "source": [
        "#unroll: create sequence of 50 previous data points for each data points\n",
        "def unroll(data,sequence_length=24):\n",
        "    result = []\n",
        "    for index in range(len(data) - sequence_length):\n",
        "        result.append(data[index: index + sequence_length])\n",
        "    return np.asarray(result)"
      ],
      "execution_count": 0,
      "outputs": []
    },
    {
      "cell_type": "code",
      "metadata": {
        "id": "QEZp6-Do-KSx",
        "colab_type": "code",
        "outputId": "8e589504-d2cb-4fa1-a65e-85b6a6de0823",
        "colab": {
          "base_uri": "https://localhost:8080/",
          "height": 90
        }
      },
      "source": [
        "# adapt the datasets for the sequence data shape\n",
        "x_train = unroll(x_train,unroll_length)\n",
        "x_test  = unroll(x_test,unroll_length)\n",
        "y_train = y_train[-x_train.shape[0]:]\n",
        "y_test  = y_test[-x_test.shape[0]:]\n",
        "\n",
        "# see the shape\n",
        "print(\"x_train\", x_train.shape)\n",
        "print(\"y_train\", y_train.shape)\n",
        "print(\"x_test\", x_test.shape)\n",
        "print(\"y_test\", y_test.shape)"
      ],
      "execution_count": 0,
      "outputs": [
        {
          "output_type": "stream",
          "text": [
            "x_train (845, 10, 3)\n",
            "y_train (845,)\n",
            "x_test (50, 10, 3)\n",
            "y_test (50,)\n"
          ],
          "name": "stdout"
        }
      ]
    },
    {
      "cell_type": "code",
      "metadata": {
        "id": "Ox4hZLdu-KSz",
        "colab_type": "code",
        "outputId": "4d32998d-a460-4901-d3af-2445b138a5a1",
        "colab": {
          "base_uri": "https://localhost:8080/",
          "height": 35
        }
      },
      "source": [
        "# specific libraries for RNN\n",
        "# keras is a high layer build on Tensorflow layer to stay in high level/easy implementation\n",
        "from keras.layers.core import Dense, Activation, Dropout\n",
        "from keras.layers.recurrent import LSTM\n",
        "from keras.models import Sequential\n",
        "import time #helper libraries\n",
        "from keras.models import model_from_json\n",
        "import sys"
      ],
      "execution_count": 0,
      "outputs": [
        {
          "output_type": "stream",
          "text": [
            "Using TensorFlow backend.\n"
          ],
          "name": "stderr"
        }
      ]
    },
    {
      "cell_type": "code",
      "metadata": {
        "id": "BJp60AWz-KS0",
        "colab_type": "code",
        "outputId": "1db82925-372e-4c22-90ba-ac2a09be4068",
        "colab": {
          "base_uri": "https://localhost:8080/",
          "height": 384
        }
      },
      "source": [
        "# Build the model\n",
        "model = Sequential()\n",
        "\n",
        "model.add(LSTM(\n",
        "    input_dim=x_train.shape[-1],\n",
        "    output_dim=10,\n",
        "    return_sequences=True))\n",
        "model.add(Dropout(0.2))\n",
        "\n",
        "model.add(LSTM(\n",
        "    200,\n",
        "    return_sequences=False))\n",
        "model.add(Dropout(0.2))\n",
        "\n",
        "model.add(Dense(\n",
        "    units=1))\n",
        "model.add(Activation('linear'))\n",
        "\n",
        "start = time.time()\n",
        "model.compile(loss='mse', optimizer='rmsprop')\n",
        "print('compilation time : {}'.format(time.time() - start))"
      ],
      "execution_count": 0,
      "outputs": [
        {
          "output_type": "stream",
          "text": [
            "WARNING: Logging before flag parsing goes to stderr.\n",
            "W0703 07:17:05.331677 140386695944064 deprecation_wrapper.py:119] From /usr/local/lib/python3.6/dist-packages/keras/backend/tensorflow_backend.py:74: The name tf.get_default_graph is deprecated. Please use tf.compat.v1.get_default_graph instead.\n",
            "\n",
            "/usr/local/lib/python3.6/dist-packages/ipykernel_launcher.py:6: UserWarning: The `input_dim` and `input_length` arguments in recurrent layers are deprecated. Use `input_shape` instead.\n",
            "  \n",
            "/usr/local/lib/python3.6/dist-packages/ipykernel_launcher.py:6: UserWarning: Update your `LSTM` call to the Keras 2 API: `LSTM(return_sequences=True, input_shape=(None, 3), units=10)`\n",
            "  \n",
            "W0703 07:17:05.375303 140386695944064 deprecation_wrapper.py:119] From /usr/local/lib/python3.6/dist-packages/keras/backend/tensorflow_backend.py:517: The name tf.placeholder is deprecated. Please use tf.compat.v1.placeholder instead.\n",
            "\n",
            "W0703 07:17:05.383761 140386695944064 deprecation_wrapper.py:119] From /usr/local/lib/python3.6/dist-packages/keras/backend/tensorflow_backend.py:4138: The name tf.random_uniform is deprecated. Please use tf.random.uniform instead.\n",
            "\n",
            "W0703 07:17:05.588710 140386695944064 deprecation_wrapper.py:119] From /usr/local/lib/python3.6/dist-packages/keras/backend/tensorflow_backend.py:133: The name tf.placeholder_with_default is deprecated. Please use tf.compat.v1.placeholder_with_default instead.\n",
            "\n",
            "W0703 07:17:05.599460 140386695944064 deprecation.py:506] From /usr/local/lib/python3.6/dist-packages/keras/backend/tensorflow_backend.py:3445: calling dropout (from tensorflow.python.ops.nn_ops) with keep_prob is deprecated and will be removed in a future version.\n",
            "Instructions for updating:\n",
            "Please use `rate` instead of `keep_prob`. Rate should be set to `rate = 1 - keep_prob`.\n",
            "W0703 07:17:05.913124 140386695944064 deprecation_wrapper.py:119] From /usr/local/lib/python3.6/dist-packages/keras/optimizers.py:790: The name tf.train.Optimizer is deprecated. Please use tf.compat.v1.train.Optimizer instead.\n",
            "\n"
          ],
          "name": "stderr"
        },
        {
          "output_type": "stream",
          "text": [
            "compilation time : 0.02914595603942871\n"
          ],
          "name": "stdout"
        }
      ]
    },
    {
      "cell_type": "code",
      "metadata": {
        "id": "TPNUIeHX-KS3",
        "colab_type": "code",
        "outputId": "0bd4c74e-704a-4975-e590-f34efbb53579",
        "colab": {
          "base_uri": "https://localhost:8080/",
          "height": 1000
        }
      },
      "source": [
        "model.fit(\n",
        "    x_train,\n",
        "    y_train,\n",
        "    batch_size=1000,\n",
        "    nb_epoch=30,\n",
        "    validation_split=0.1)"
      ],
      "execution_count": 0,
      "outputs": [
        {
          "output_type": "stream",
          "text": [
            "/usr/local/lib/python3.6/dist-packages/ipykernel_launcher.py:6: UserWarning: The `nb_epoch` argument in `fit` has been renamed `epochs`.\n",
            "  \n",
            "W0703 07:17:06.264804 140386695944064 deprecation.py:323] From /usr/local/lib/python3.6/dist-packages/tensorflow/python/ops/math_grad.py:1250: add_dispatch_support.<locals>.wrapper (from tensorflow.python.ops.array_ops) is deprecated and will be removed in a future version.\n",
            "Instructions for updating:\n",
            "Use tf.where in 2.0, which has the same broadcast rule as np.where\n",
            "W0703 07:17:07.611929 140386695944064 deprecation_wrapper.py:119] From /usr/local/lib/python3.6/dist-packages/keras/backend/tensorflow_backend.py:986: The name tf.assign_add is deprecated. Please use tf.compat.v1.assign_add instead.\n",
            "\n"
          ],
          "name": "stderr"
        },
        {
          "output_type": "stream",
          "text": [
            "Train on 760 samples, validate on 85 samples\n",
            "Epoch 1/30\n",
            "760/760 [==============================] - 2s 3ms/step - loss: 1.1611 - val_loss: 0.0218\n",
            "Epoch 2/30\n",
            "760/760 [==============================] - 0s 386us/step - loss: 1.1401 - val_loss: 0.0152\n",
            "Epoch 3/30\n",
            "760/760 [==============================] - 0s 376us/step - loss: 1.1239 - val_loss: 0.0193\n",
            "Epoch 4/30\n",
            "760/760 [==============================] - 0s 380us/step - loss: 1.1074 - val_loss: 0.0134\n",
            "Epoch 5/30\n",
            "760/760 [==============================] - 0s 385us/step - loss: 1.0912 - val_loss: 0.0269\n",
            "Epoch 6/30\n",
            "760/760 [==============================] - 0s 369us/step - loss: 1.0961 - val_loss: 0.0058\n",
            "Epoch 7/30\n",
            "760/760 [==============================] - 0s 372us/step - loss: 1.0991 - val_loss: 0.0216\n",
            "Epoch 8/30\n",
            "760/760 [==============================] - 0s 363us/step - loss: 1.0832 - val_loss: 0.0143\n",
            "Epoch 9/30\n",
            "760/760 [==============================] - 0s 369us/step - loss: 1.0743 - val_loss: 0.0179\n",
            "Epoch 10/30\n",
            "760/760 [==============================] - 0s 369us/step - loss: 1.0704 - val_loss: 0.0143\n",
            "Epoch 11/30\n",
            "760/760 [==============================] - 0s 371us/step - loss: 1.0688 - val_loss: 0.0185\n",
            "Epoch 12/30\n",
            "760/760 [==============================] - 0s 370us/step - loss: 1.0537 - val_loss: 0.0166\n",
            "Epoch 13/30\n",
            "760/760 [==============================] - 0s 367us/step - loss: 1.0500 - val_loss: 0.0247\n",
            "Epoch 14/30\n",
            "760/760 [==============================] - 0s 374us/step - loss: 1.0715 - val_loss: 0.0099\n",
            "Epoch 15/30\n",
            "760/760 [==============================] - 0s 366us/step - loss: 1.0837 - val_loss: 0.0232\n",
            "Epoch 16/30\n",
            "760/760 [==============================] - 0s 372us/step - loss: 1.0554 - val_loss: 0.0183\n",
            "Epoch 17/30\n",
            "760/760 [==============================] - 0s 373us/step - loss: 1.0389 - val_loss: 0.0223\n",
            "Epoch 18/30\n",
            "760/760 [==============================] - 0s 384us/step - loss: 1.0347 - val_loss: 0.0194\n",
            "Epoch 19/30\n",
            "760/760 [==============================] - 0s 368us/step - loss: 1.0531 - val_loss: 0.0274\n",
            "Epoch 20/30\n",
            "760/760 [==============================] - 0s 394us/step - loss: 1.0680 - val_loss: 0.0111\n",
            "Epoch 21/30\n",
            "760/760 [==============================] - 0s 369us/step - loss: 1.0528 - val_loss: 0.0184\n",
            "Epoch 22/30\n",
            "760/760 [==============================] - 0s 362us/step - loss: 1.0221 - val_loss: 0.0230\n",
            "Epoch 23/30\n",
            "760/760 [==============================] - 0s 366us/step - loss: 1.0124 - val_loss: 0.0155\n",
            "Epoch 24/30\n",
            "760/760 [==============================] - 0s 362us/step - loss: 1.0323 - val_loss: 0.0244\n",
            "Epoch 25/30\n",
            "760/760 [==============================] - 0s 368us/step - loss: 1.0196 - val_loss: 0.0183\n",
            "Epoch 26/30\n",
            "760/760 [==============================] - 0s 365us/step - loss: 1.0117 - val_loss: 0.0233\n",
            "Epoch 27/30\n",
            "760/760 [==============================] - 0s 377us/step - loss: 1.0205 - val_loss: 0.0151\n",
            "Epoch 28/30\n",
            "760/760 [==============================] - 0s 373us/step - loss: 1.0404 - val_loss: 0.0158\n",
            "Epoch 29/30\n",
            "760/760 [==============================] - 0s 362us/step - loss: 1.0230 - val_loss: 0.0223\n",
            "Epoch 30/30\n",
            "760/760 [==============================] - 0s 373us/step - loss: 1.0149 - val_loss: 0.0134\n"
          ],
          "name": "stdout"
        },
        {
          "output_type": "execute_result",
          "data": {
            "text/plain": [
              "<keras.callbacks.History at 0x7fae206806a0>"
            ]
          },
          "metadata": {
            "tags": []
          },
          "execution_count": 60
        }
      ]
    },
    {
      "cell_type": "code",
      "metadata": {
        "id": "qh6PPvsW-KS4",
        "colab_type": "code",
        "colab": {}
      },
      "source": [
        "diff=[]\n",
        "ratio=[]\n",
        "p = model.predict(x_test)"
      ],
      "execution_count": 0,
      "outputs": []
    },
    {
      "cell_type": "code",
      "metadata": {
        "id": "N-qkb7bP-KS6",
        "colab_type": "code",
        "colab": {}
      },
      "source": [
        "for u in range(len(y_test)):\n",
        "    pr = p[u][0]\n",
        "    ratio.append((y_test[u]/pr)-1)\n",
        "    diff.append(abs(y_test[u]- pr))"
      ],
      "execution_count": 0,
      "outputs": []
    },
    {
      "cell_type": "code",
      "metadata": {
        "id": "EocwW9DS-KS8",
        "colab_type": "code",
        "outputId": "00eba39f-6101-4afc-aefa-1db2cce2ec1e",
        "colab": {
          "base_uri": "https://localhost:8080/",
          "height": 515
        }
      },
      "source": [
        "fig, axs = plt.subplots()\n",
        "axs.plot(p,color='red', label='prediction')\n",
        "axs.plot(y_test,color='blue', label='y_test')\n",
        "plt.legend(loc='upper left')\n",
        "plt.show()"
      ],
      "execution_count": 0,
      "outputs": [
        {
          "output_type": "display_data",
          "data": {
            "image/png": "[encoded data removed]",
            "text/plain": [
              "<Figure size 1080x576 with 1 Axes>"
            ]
          },
          "metadata": {
            "tags": []
          }
        }
      ]
    },
    {
      "cell_type": "code",
      "metadata": {
        "id": "zkmwjCpg-KS-",
        "colab_type": "code",
        "colab": {}
      },
      "source": [
        "# select the most distant prediction/reality data points as anomalies\n",
        "diff = pd.Series(diff)\n",
        "number_of_outliers = int(0.1*len(diff))\n",
        "threshold = diff.nlargest(number_of_outliers).min()"
      ],
      "execution_count": 0,
      "outputs": []
    },
    {
      "cell_type": "code",
      "metadata": {
        "id": "19Rxry1d-KS_",
        "colab_type": "code",
        "colab": {}
      },
      "source": [
        "# data with anomaly label (test data part)\n",
        "test = (diff >= threshold).astype(int)"
      ],
      "execution_count": 0,
      "outputs": []
    },
    {
      "cell_type": "code",
      "metadata": {
        "id": "feF58iY--KTC",
        "colab_type": "code",
        "outputId": "745cfe30-b179-4611-cfc5-3a6b6e91bf2c",
        "colab": {
          "base_uri": "https://localhost:8080/",
          "height": 127
        }
      },
      "source": [
        "test.head()"
      ],
      "execution_count": 0,
      "outputs": [
        {
          "output_type": "execute_result",
          "data": {
            "text/plain": [
              "0    0\n",
              "1    0\n",
              "2    0\n",
              "3    0\n",
              "4    0\n",
              "dtype: int64"
            ]
          },
          "metadata": {
            "tags": []
          },
          "execution_count": 66
        }
      ]
    },
    {
      "cell_type": "code",
      "metadata": {
        "id": "CAo96NzG-KTF",
        "colab_type": "code",
        "colab": {}
      },
      "source": [
        "# the training data part where we didn't predict anything (overfitting possible): no anomaly\n",
        "complement = pd.Series(0, index=np.arange(len(data_n)-testdatasize))"
      ],
      "execution_count": 0,
      "outputs": []
    },
    {
      "cell_type": "code",
      "metadata": {
        "id": "7Uvn22eZ-KTH",
        "colab_type": "code",
        "outputId": "34321556-06e7-43cb-9244-6341262cf4b2",
        "colab": {
          "base_uri": "https://localhost:8080/",
          "height": 35
        }
      },
      "source": [
        "complement.shape"
      ],
      "execution_count": 0,
      "outputs": [
        {
          "output_type": "execute_result",
          "data": {
            "text/plain": [
              "(867,)"
            ]
          },
          "metadata": {
            "tags": []
          },
          "execution_count": 68
        }
      ]
    },
    {
      "cell_type": "code",
      "metadata": {
        "id": "0PzIiM5T-KTJ",
        "colab_type": "code",
        "outputId": "6840be01-9484-4be2-feee-a40764a7c5e2",
        "colab": {
          "base_uri": "https://localhost:8080/",
          "height": 182
        }
      },
      "source": [
        "# # add the data to the main\n",
        "df['anomaly27'] = complement.append(test, ignore_index='True')\n",
        "print(df['anomaly27'].value_counts())"
      ],
      "execution_count": 0,
      "outputs": [
        {
          "output_type": "stream",
          "text": [
            "0.0    911\n",
            "1.0      5\n",
            "Name: anomaly27, dtype: int64\n"
          ],
          "name": "stdout"
        },
        {
          "output_type": "stream",
          "text": [
            "/usr/local/lib/python3.6/dist-packages/ipykernel_launcher.py:1: SettingWithCopyWarning: \n",
            "A value is trying to be set on a copy of a slice from a DataFrame.\n",
            "Try using .loc[row_indexer,col_indexer] = value instead\n",
            "\n",
            "See the caveats in the documentation: http://pandas.pydata.org/pandas-docs/stable/indexing.html#indexing-view-versus-copy\n",
            "  \"\"\"Entry point for launching an IPython kernel.\n"
          ],
          "name": "stderr"
        }
      ]
    },
    {
      "cell_type": "code",
      "metadata": {
        "id": "dneCZLsP-KTL",
        "colab_type": "code",
        "outputId": "9b17ce33-dbfd-4870-cbb4-5c3a6f3ff98c",
        "colab": {
          "base_uri": "https://localhost:8080/",
          "height": 532
        }
      },
      "source": [
        "# visualisation of anomaly throughout time (viz 1)\n",
        "fig, ax = plt.subplots()\n",
        "\n",
        "a = df.loc[df['anomaly27'] == 1, ['time_epoch', 'count']] #anomaly\n",
        "\n",
        "ax.plot(df['time_epoch'], df['count'], color='blue')\n",
        "ax.scatter(a['time_epoch'],a['count'], color='red', s=100)\n",
        "# plt.axis([1.370*1e7, 1.405*1e7, -2.5,1])\n",
        "plt.show()"
      ],
      "execution_count": 0,
      "outputs": [
        {
          "output_type": "display_data",
          "data": {
            "image/png": "[encoded data removed]",
            "text/plain": [
              "<Figure size 1080x576 with 1 Axes>"
            ]
          },
          "metadata": {
            "tags": []
          }
        }
      ]
    },
    {
      "cell_type": "code",
      "metadata": {
        "id": "O79Bcs9m-KTN",
        "colab_type": "code",
        "colab": {}
      },
      "source": [
        "diff=[]\n",
        "ratio=[]\n",
        "p = model.predict(x_train)"
      ],
      "execution_count": 0,
      "outputs": []
    },
    {
      "cell_type": "code",
      "metadata": {
        "id": "r7TDK8aj-KTP",
        "colab_type": "code",
        "colab": {}
      },
      "source": [
        "for u in range(len(y_train)):\n",
        "    pr = p[u][0]\n",
        "    ratio.append((y_train[u]/pr)-1)\n",
        "    diff.append(abs(y_train[u]- pr))"
      ],
      "execution_count": 0,
      "outputs": []
    },
    {
      "cell_type": "code",
      "metadata": {
        "id": "VScKXtcg-KTQ",
        "colab_type": "code",
        "outputId": "a1d85cfb-7627-45e8-d49c-98109622f7e7",
        "colab": {
          "base_uri": "https://localhost:8080/",
          "height": 515
        }
      },
      "source": [
        "fig, axs = plt.subplots()\n",
        "axs.plot(p,color='red', label='prediction')\n",
        "axs.plot(y_train,color='blue', label='y_test')\n",
        "plt.legend(loc='upper left')\n",
        "plt.show()"
      ],
      "execution_count": 0,
      "outputs": [
        {
          "output_type": "display_data",
          "data": {
            "image/png": "[encoded data removed]",
            "text/plain": [
              "<Figure size 1080x576 with 1 Axes>"
            ]
          },
          "metadata": {
            "tags": []
          }
        }
      ]
    },
    {
      "cell_type": "code",
      "metadata": {
        "id": "f6Asuznf-KTS",
        "colab_type": "code",
        "colab": {}
      },
      "source": [
        "# select the most distant prediction/reality data points as anomalies\n",
        "diff = pd.Series(diff)\n",
        "number_of_outliers = int(0.01*len(diff))\n",
        "threshold = diff.nlargest(number_of_outliers).min()"
      ],
      "execution_count": 0,
      "outputs": []
    },
    {
      "cell_type": "code",
      "metadata": {
        "id": "SdHNvNMs-KTT",
        "colab_type": "code",
        "outputId": "3590e878-f9de-48f3-978e-de430b24a2cb",
        "colab": {
          "base_uri": "https://localhost:8080/",
          "height": 35
        }
      },
      "source": [
        "diff.shape"
      ],
      "execution_count": 0,
      "outputs": [
        {
          "output_type": "execute_result",
          "data": {
            "text/plain": [
              "(845,)"
            ]
          },
          "metadata": {
            "tags": []
          },
          "execution_count": 75
        }
      ]
    },
    {
      "cell_type": "code",
      "metadata": {
        "id": "7PELQS3w-KTV",
        "colab_type": "code",
        "outputId": "a233e2f1-c9ee-4e09-cb9e-18b2f3ca8229",
        "colab": {
          "base_uri": "https://localhost:8080/",
          "height": 35
        }
      },
      "source": [
        "diff.index"
      ],
      "execution_count": 0,
      "outputs": [
        {
          "output_type": "execute_result",
          "data": {
            "text/plain": [
              "RangeIndex(start=0, stop=845, step=1)"
            ]
          },
          "metadata": {
            "tags": []
          },
          "execution_count": 76
        }
      ]
    },
    {
      "cell_type": "code",
      "metadata": {
        "id": "RcseT53L-KTW",
        "colab_type": "code",
        "outputId": "cf1ac90a-1424-4ff2-982b-36e8821a7f66",
        "colab": {
          "base_uri": "https://localhost:8080/",
          "height": 127
        }
      },
      "source": [
        "complement.head()"
      ],
      "execution_count": 0,
      "outputs": [
        {
          "output_type": "execute_result",
          "data": {
            "text/plain": [
              "0    0\n",
              "1    0\n",
              "2    0\n",
              "3    0\n",
              "4    0\n",
              "dtype: int64"
            ]
          },
          "metadata": {
            "tags": []
          },
          "execution_count": 77
        }
      ]
    },
    {
      "cell_type": "code",
      "metadata": {
        "id": "4OW0J2vE-KTY",
        "colab_type": "code",
        "outputId": "1a78b5c8-dbbe-4ff6-e454-c5a6105273c0",
        "colab": {
          "base_uri": "https://localhost:8080/",
          "height": 697
        }
      },
      "source": [
        "# data with anomaly label (test data part)\n",
        "train = (diff >= threshold).astype(int)\n",
        "# the training data part where we didn't predict anything (overfitting possible): no anomaly\n",
        "# complement = pd.Series(0, index=np.arange(len(diff)))\n",
        "# # add the data to the main\n",
        "df['anomaly28'] = train.append(complement, ignore_index='True')\n",
        "print(df['anomaly28'].value_counts())\n",
        "\n",
        "# visualisation of anomaly throughout time (viz 1)\n",
        "fig, ax = plt.subplots()\n",
        "\n",
        "a = df.loc[df['anomaly28'] == 1, ['time_epoch', 'count']] #anomaly\n",
        "\n",
        "ax.plot(df['time_epoch'], df['count'], color='blue')\n",
        "ax.scatter(a['time_epoch'],a['count'], color='red', s= 100)\n",
        "# plt.axis([1.370*1e7, 1.405*1e7, -2.5,1])\n",
        "plt.show()"
      ],
      "execution_count": 0,
      "outputs": [
        {
          "output_type": "stream",
          "text": [
            "/usr/local/lib/python3.6/dist-packages/ipykernel_launcher.py:5: SettingWithCopyWarning: \n",
            "A value is trying to be set on a copy of a slice from a DataFrame.\n",
            "Try using .loc[row_indexer,col_indexer] = value instead\n",
            "\n",
            "See the caveats in the documentation: http://pandas.pydata.org/pandas-docs/stable/indexing.html#indexing-view-versus-copy\n",
            "  \"\"\"\n"
          ],
          "name": "stderr"
        },
        {
          "output_type": "stream",
          "text": [
            "0    909\n",
            "1      8\n",
            "Name: anomaly28, dtype: int64\n"
          ],
          "name": "stdout"
        },
        {
          "output_type": "display_data",
          "data": {
            "image/png": "[encoded data removed]",
            "text/plain": [
              "<Figure size 1080x576 with 1 Axes>"
            ]
          },
          "metadata": {
            "tags": []
          }
        }
      ]
    },
    {
      "cell_type": "code",
      "metadata": {
        "id": "iNREjqDx-KTa",
        "colab_type": "code",
        "colab": {}
      },
      "source": [
        ""
      ],
      "execution_count": 0,
      "outputs": []
    },
    {
      "cell_type": "code",
      "metadata": {
        "id": "cdfssrCB-KTc",
        "colab_type": "code",
        "colab": {}
      },
      "source": [
        ""
      ],
      "execution_count": 0,
      "outputs": []
    },
    {
      "cell_type": "code",
      "metadata": {
        "id": "O8Tih26wAljN",
        "colab_type": "code",
        "colab": {}
      },
      "source": [
        ""
      ],
      "execution_count": 0,
      "outputs": []
    }
  ]
}